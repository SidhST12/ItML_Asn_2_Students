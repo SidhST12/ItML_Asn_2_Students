{
 "cells": [
  {
   "cell_type": "code",
   "execution_count": 1,
   "metadata": {},
   "outputs": [],
   "source": [
    "import numpy as np\n",
    "import matplotlib.pyplot as plt\n",
    "import pandas as pd\n",
    "from sklearn.linear_model import LinearRegression\n",
    "from sklearn.preprocessing import PolynomialFeatures\n",
    "from sklearn.linear_model import SGDRegressor\n",
    "import seaborn as sns\n",
    "from sklearn.pipeline import Pipeline\n",
    "from sklearn.metrics import mean_squared_error\n",
    "from sklearn.model_selection import train_test_split\n",
    "from sklearn.model_selection import cross_val_score\n",
    "from sklearn.linear_model import Lasso\n",
    "from sklearn.linear_model import Ridge\n",
    "from sklearn.preprocessing import MinMaxScaler\n",
    "from sklearn.model_selection import GridSearchCV"
   ]
  },
  {
   "cell_type": "markdown",
   "metadata": {},
   "source": [
    "# Assignment 2 - Regression\n",
    "### Predict the TOTAL COMPENSATION for this year. \n",
    "\n",
    "The data file provided is a salary survey for tech workers in Europe. We want to predict the total amount of compensation they bring in each year, based off of the details of their work. \n",
    "\n",
    "Some notes that will be important:\n",
    "<ul>\n",
    "    <li>The total compensation will need to be constructed, there is a column for salary, \"Yearly brutto salary (without bonus and stocks) in EUR\", as well as a column for bonus compensation, \"Yearly bonus + stocks in EUR\". \n",
    "    <li>Some categorical variables will need some work, and there isn't generally an exact answer. The main concern is things with categories that have a bunch of values with a very small count. For example, if there is only 1 person in City X, then that value likely needs to be addressed. We don't want it encoded into a new column of one 1 and thousands of 0s. \n",
    "    <li>There is an article exploring some of the data here: https://www.asdcode.de/2021/01/it-salary-survey-december-2020.html\n",
    "    <li>Imputation and a bit of data manipulation will be required. \n",
    "    <li>Use any regression method you'd like. Some ones are closely related to what we've done, you may want to look at them, e.g. ExtraTreesRegressor. \n",
    "    <li>Initial accurracy, and potentially final accuracy, may not be great. When I made a plain model will little optimization the errors were large and the R2 was low. There is lots of room for optimization. \n",
    "    <li>Research challenge - try some work on the target, look into TransformedTargetRegressor and see if that helps. Recall in stats when we had skewed distributions... Maybe it helps, maybe it doesn't. \n",
    "    <li>EDA and data prep are up to you - you'll probably need to do a little exploring to figure out what cleanup is needed. When I did it, I did things kind of iteratively when I did it. For example, look at the value counts, figure out how to treat the different categories, clean something up, look at the results, potentially repeat if needed. After you figure out what needs to be done, you may be able to take some of those steps and incorporate them into a pipeline to be cleaner....\n",
    "    <li><b>CRITICAL - Please make sure your code runs with RUN ALL. It should load the data that you're given, do all the processing, and spit out results. Comment out or remove anything that you've cleaned up and don't need - e.g. if you scaled a value manually, then moved that into a pipeline, don't leave the original scaling code active when the file is run.</b>\n",
    "</ul>\n",
    "\n",
    "### Details and Deliverables\n",
    "\n",
    "You'll need to build code to produce the predictions. In particular, there's a few things that'll be marked:\n",
    "<ul>\n",
    "    <li>Please add a markdown cell at the bottom, and put in a few notes addressing the following:\n",
    "    <ul>\n",
    "        <li> Accuracy of your models with/without feature selection. Include both train/test for each. Please use R2 and RMSE. \n",
    "        <li> Feature Selection - Please identify what you did for feature selection. No need for a long explaination, something along the lines of \"I did X, and the result was that 4 features were removed\". Try at least 2 things. \n",
    "        <li> Hyperparameter Changes / Grid Search Improvements. What did you try, and why. Similar explaination to above, short. \n",
    "        <li> Overall this section should be roughly as long as this intro block - just outline what the results were, what you did to improve, and the results after. \n",
    "        <li> If you could use titles/bullet points I'd really appreciate it. \n",
    "    </ul>\n",
    "    <li>Grade Breakdown:\n",
    "    <ul>\n",
    "        <li> Code is readable, there are comments: 20%\n",
    "        <li> Explaination as defined above: 60% (20% each point)\n",
    "        <li> Accuracy: 20% As compared to everyone else. This will be generously graded, I won't be surprised if overall accuracy is low for most people. \n",
    "    </ul>\n",
    "</ul>"
   ]
  },
  {
   "cell_type": "code",
   "execution_count": 2,
   "metadata": {},
   "outputs": [
    {
     "data": {
      "text/html": [
       "<div>\n",
       "<style scoped>\n",
       "    .dataframe tbody tr th:only-of-type {\n",
       "        vertical-align: middle;\n",
       "    }\n",
       "\n",
       "    .dataframe tbody tr th {\n",
       "        vertical-align: top;\n",
       "    }\n",
       "\n",
       "    .dataframe thead th {\n",
       "        text-align: right;\n",
       "    }\n",
       "</style>\n",
       "<table border=\"1\" class=\"dataframe\">\n",
       "  <thead>\n",
       "    <tr style=\"text-align: right;\">\n",
       "      <th></th>\n",
       "      <th>Timestamp</th>\n",
       "      <th>Age</th>\n",
       "      <th>Gender</th>\n",
       "      <th>City</th>\n",
       "      <th>Position</th>\n",
       "      <th>Total years of experience</th>\n",
       "      <th>Years of experience in Germany</th>\n",
       "      <th>Seniority level</th>\n",
       "      <th>Your main technology / programming language</th>\n",
       "      <th>Other technologies/programming languages you use often</th>\n",
       "      <th>Yearly brutto salary (without bonus and stocks) in EUR</th>\n",
       "      <th>Yearly bonus + stocks in EUR</th>\n",
       "      <th>Number of vacation days</th>\n",
       "      <th>Employment status</th>\n",
       "      <th>Сontract duration</th>\n",
       "      <th>Main language at work</th>\n",
       "      <th>Company size</th>\n",
       "      <th>Company type</th>\n",
       "    </tr>\n",
       "  </thead>\n",
       "  <tbody>\n",
       "    <tr>\n",
       "      <th>0</th>\n",
       "      <td>24/11/2020 11:14:15</td>\n",
       "      <td>26.0</td>\n",
       "      <td>Male</td>\n",
       "      <td>Munich</td>\n",
       "      <td>Software Engineer</td>\n",
       "      <td>5</td>\n",
       "      <td>3</td>\n",
       "      <td>Senior</td>\n",
       "      <td>TypeScript</td>\n",
       "      <td>Kotlin, Javascript / Typescript</td>\n",
       "      <td>80000.0</td>\n",
       "      <td>5000</td>\n",
       "      <td>30</td>\n",
       "      <td>Full-time employee</td>\n",
       "      <td>Unlimited contract</td>\n",
       "      <td>English</td>\n",
       "      <td>51-100</td>\n",
       "      <td>Product</td>\n",
       "    </tr>\n",
       "    <tr>\n",
       "      <th>1</th>\n",
       "      <td>24/11/2020 11:14:16</td>\n",
       "      <td>26.0</td>\n",
       "      <td>Male</td>\n",
       "      <td>Berlin</td>\n",
       "      <td>Backend Developer</td>\n",
       "      <td>7</td>\n",
       "      <td>4</td>\n",
       "      <td>Senior</td>\n",
       "      <td>Ruby</td>\n",
       "      <td>NaN</td>\n",
       "      <td>80000.0</td>\n",
       "      <td>NaN</td>\n",
       "      <td>28</td>\n",
       "      <td>Full-time employee</td>\n",
       "      <td>Unlimited contract</td>\n",
       "      <td>English</td>\n",
       "      <td>101-1000</td>\n",
       "      <td>Product</td>\n",
       "    </tr>\n",
       "    <tr>\n",
       "      <th>2</th>\n",
       "      <td>24/11/2020 11:14:21</td>\n",
       "      <td>29.0</td>\n",
       "      <td>Male</td>\n",
       "      <td>Berlin</td>\n",
       "      <td>Software Engineer</td>\n",
       "      <td>12</td>\n",
       "      <td>6</td>\n",
       "      <td>Lead</td>\n",
       "      <td>Javascript / Typescript</td>\n",
       "      <td>Javascript / Typescript, Docker</td>\n",
       "      <td>120000.0</td>\n",
       "      <td>120000</td>\n",
       "      <td>30</td>\n",
       "      <td>Self-employed (freelancer)</td>\n",
       "      <td>Temporary contract</td>\n",
       "      <td>English</td>\n",
       "      <td>101-1000</td>\n",
       "      <td>Product</td>\n",
       "    </tr>\n",
       "    <tr>\n",
       "      <th>3</th>\n",
       "      <td>24/11/2020 11:15:24</td>\n",
       "      <td>28.0</td>\n",
       "      <td>Male</td>\n",
       "      <td>Berlin</td>\n",
       "      <td>Frontend Developer</td>\n",
       "      <td>4</td>\n",
       "      <td>1</td>\n",
       "      <td>Junior</td>\n",
       "      <td>Javascript</td>\n",
       "      <td>NaN</td>\n",
       "      <td>54000.0</td>\n",
       "      <td>NaN</td>\n",
       "      <td>24</td>\n",
       "      <td>Full-time employee</td>\n",
       "      <td>Unlimited contract</td>\n",
       "      <td>English</td>\n",
       "      <td>51-100</td>\n",
       "      <td>Startup</td>\n",
       "    </tr>\n",
       "    <tr>\n",
       "      <th>4</th>\n",
       "      <td>24/11/2020 11:15:46</td>\n",
       "      <td>37.0</td>\n",
       "      <td>Male</td>\n",
       "      <td>Berlin</td>\n",
       "      <td>Backend Developer</td>\n",
       "      <td>17</td>\n",
       "      <td>6</td>\n",
       "      <td>Senior</td>\n",
       "      <td>C# .NET</td>\n",
       "      <td>.NET, SQL, AWS, Docker</td>\n",
       "      <td>62000.0</td>\n",
       "      <td>NaN</td>\n",
       "      <td>29</td>\n",
       "      <td>Full-time employee</td>\n",
       "      <td>Unlimited contract</td>\n",
       "      <td>English</td>\n",
       "      <td>101-1000</td>\n",
       "      <td>Product</td>\n",
       "    </tr>\n",
       "    <tr>\n",
       "      <th>5</th>\n",
       "      <td>24/11/2020 11:15:53</td>\n",
       "      <td>32.0</td>\n",
       "      <td>Male</td>\n",
       "      <td>Berlin</td>\n",
       "      <td>DevOps</td>\n",
       "      <td>5</td>\n",
       "      <td>1</td>\n",
       "      <td>Senior</td>\n",
       "      <td>AWS, GCP, Python,K8s</td>\n",
       "      <td>Python, AWS, Google Cloud, Kubernetes, Docker</td>\n",
       "      <td>76000.0</td>\n",
       "      <td>5000</td>\n",
       "      <td>30</td>\n",
       "      <td>Full-time employee</td>\n",
       "      <td>Unlimited contract</td>\n",
       "      <td>English</td>\n",
       "      <td>11-50</td>\n",
       "      <td>Startup</td>\n",
       "    </tr>\n",
       "    <tr>\n",
       "      <th>6</th>\n",
       "      <td>24/11/2020 11:16:35</td>\n",
       "      <td>37.0</td>\n",
       "      <td>Male</td>\n",
       "      <td>Berlin</td>\n",
       "      <td>Frontend Developer</td>\n",
       "      <td>6</td>\n",
       "      <td>0.4</td>\n",
       "      <td>Middle</td>\n",
       "      <td>Javascript</td>\n",
       "      <td>NaN</td>\n",
       "      <td>57000.0</td>\n",
       "      <td>NaN</td>\n",
       "      <td>24</td>\n",
       "      <td>Full-time employee</td>\n",
       "      <td>Unlimited contract</td>\n",
       "      <td>English</td>\n",
       "      <td>11-50</td>\n",
       "      <td>Product</td>\n",
       "    </tr>\n",
       "    <tr>\n",
       "      <th>7</th>\n",
       "      <td>24/11/2020 11:16:44</td>\n",
       "      <td>24.0</td>\n",
       "      <td>Male</td>\n",
       "      <td>Berlin</td>\n",
       "      <td>Frontend Developer</td>\n",
       "      <td>5</td>\n",
       "      <td>1</td>\n",
       "      <td>Senior</td>\n",
       "      <td>Typescript</td>\n",
       "      <td>Javascript / Typescript</td>\n",
       "      <td>65000.0</td>\n",
       "      <td>NaN</td>\n",
       "      <td>27</td>\n",
       "      <td>Full-time employee</td>\n",
       "      <td>Unlimited contract</td>\n",
       "      <td>English</td>\n",
       "      <td>1000+</td>\n",
       "      <td>Product</td>\n",
       "    </tr>\n",
       "    <tr>\n",
       "      <th>8</th>\n",
       "      <td>24/11/2020 11:17:24</td>\n",
       "      <td>29.0</td>\n",
       "      <td>Male</td>\n",
       "      <td>Berlin</td>\n",
       "      <td>Backend Developer</td>\n",
       "      <td>8</td>\n",
       "      <td>2</td>\n",
       "      <td>Senior</td>\n",
       "      <td>PHP</td>\n",
       "      <td>SQL, AWS, Docker</td>\n",
       "      <td>56000.0</td>\n",
       "      <td>NaN</td>\n",
       "      <td>28</td>\n",
       "      <td>Full-time employee</td>\n",
       "      <td>Unlimited contract</td>\n",
       "      <td>English</td>\n",
       "      <td>101-1000</td>\n",
       "      <td>Product</td>\n",
       "    </tr>\n",
       "    <tr>\n",
       "      <th>9</th>\n",
       "      <td>24/11/2020 11:17:50</td>\n",
       "      <td>35.0</td>\n",
       "      <td>Male</td>\n",
       "      <td>Berlin</td>\n",
       "      <td>Software Engineer</td>\n",
       "      <td>15</td>\n",
       "      <td>3</td>\n",
       "      <td>Lead</td>\n",
       "      <td>Java</td>\n",
       "      <td>NaN</td>\n",
       "      <td>95000.0</td>\n",
       "      <td>NaN</td>\n",
       "      <td>30</td>\n",
       "      <td>Full-time employee</td>\n",
       "      <td>Unlimited contract</td>\n",
       "      <td>English</td>\n",
       "      <td>101-1000</td>\n",
       "      <td>Product</td>\n",
       "    </tr>\n",
       "  </tbody>\n",
       "</table>\n",
       "</div>"
      ],
      "text/plain": [
       "             Timestamp   Age Gender    City           Position   \\\n",
       "0  24/11/2020 11:14:15  26.0   Male  Munich   Software Engineer   \n",
       "1  24/11/2020 11:14:16  26.0   Male  Berlin   Backend Developer   \n",
       "2  24/11/2020 11:14:21  29.0   Male  Berlin   Software Engineer   \n",
       "3  24/11/2020 11:15:24  28.0   Male  Berlin  Frontend Developer   \n",
       "4  24/11/2020 11:15:46  37.0   Male  Berlin   Backend Developer   \n",
       "5  24/11/2020 11:15:53  32.0   Male  Berlin              DevOps   \n",
       "6  24/11/2020 11:16:35  37.0   Male  Berlin  Frontend Developer   \n",
       "7  24/11/2020 11:16:44  24.0   Male  Berlin  Frontend Developer   \n",
       "8  24/11/2020 11:17:24  29.0   Male  Berlin   Backend Developer   \n",
       "9  24/11/2020 11:17:50  35.0   Male  Berlin   Software Engineer   \n",
       "\n",
       "  Total years of experience Years of experience in Germany Seniority level  \\\n",
       "0                         5                              3          Senior   \n",
       "1                         7                              4          Senior   \n",
       "2                        12                              6            Lead   \n",
       "3                         4                              1          Junior   \n",
       "4                        17                              6          Senior   \n",
       "5                         5                              1          Senior   \n",
       "6                         6                            0.4          Middle   \n",
       "7                         5                              1          Senior   \n",
       "8                         8                              2          Senior   \n",
       "9                        15                              3            Lead   \n",
       "\n",
       "  Your main technology / programming language  \\\n",
       "0                                  TypeScript   \n",
       "1                                        Ruby   \n",
       "2                     Javascript / Typescript   \n",
       "3                                  Javascript   \n",
       "4                                     C# .NET   \n",
       "5                        AWS, GCP, Python,K8s   \n",
       "6                                  Javascript   \n",
       "7                                  Typescript   \n",
       "8                                         PHP   \n",
       "9                                        Java   \n",
       "\n",
       "  Other technologies/programming languages you use often  \\\n",
       "0                    Kotlin, Javascript / Typescript       \n",
       "1                                                NaN       \n",
       "2                    Javascript / Typescript, Docker       \n",
       "3                                                NaN       \n",
       "4                             .NET, SQL, AWS, Docker       \n",
       "5      Python, AWS, Google Cloud, Kubernetes, Docker       \n",
       "6                                                NaN       \n",
       "7                            Javascript / Typescript       \n",
       "8                                   SQL, AWS, Docker       \n",
       "9                                                NaN       \n",
       "\n",
       "   Yearly brutto salary (without bonus and stocks) in EUR  \\\n",
       "0                                            80000.0        \n",
       "1                                            80000.0        \n",
       "2                                           120000.0        \n",
       "3                                            54000.0        \n",
       "4                                            62000.0        \n",
       "5                                            76000.0        \n",
       "6                                            57000.0        \n",
       "7                                            65000.0        \n",
       "8                                            56000.0        \n",
       "9                                            95000.0        \n",
       "\n",
       "  Yearly bonus + stocks in EUR Number of vacation days  \\\n",
       "0                         5000                      30   \n",
       "1                          NaN                      28   \n",
       "2                       120000                      30   \n",
       "3                          NaN                      24   \n",
       "4                          NaN                      29   \n",
       "5                         5000                      30   \n",
       "6                          NaN                      24   \n",
       "7                          NaN                      27   \n",
       "8                          NaN                      28   \n",
       "9                          NaN                      30   \n",
       "\n",
       "            Employment status   Сontract duration Main language at work  \\\n",
       "0          Full-time employee  Unlimited contract               English   \n",
       "1          Full-time employee  Unlimited contract               English   \n",
       "2  Self-employed (freelancer)  Temporary contract               English   \n",
       "3          Full-time employee  Unlimited contract               English   \n",
       "4          Full-time employee  Unlimited contract               English   \n",
       "5          Full-time employee  Unlimited contract               English   \n",
       "6          Full-time employee  Unlimited contract               English   \n",
       "7          Full-time employee  Unlimited contract               English   \n",
       "8          Full-time employee  Unlimited contract               English   \n",
       "9          Full-time employee  Unlimited contract               English   \n",
       "\n",
       "  Company size Company type  \n",
       "0       51-100      Product  \n",
       "1     101-1000      Product  \n",
       "2     101-1000      Product  \n",
       "3       51-100      Startup  \n",
       "4     101-1000      Product  \n",
       "5        11-50      Startup  \n",
       "6        11-50      Product  \n",
       "7        1000+      Product  \n",
       "8     101-1000      Product  \n",
       "9     101-1000      Product  "
      ]
     },
     "execution_count": 2,
     "metadata": {},
     "output_type": "execute_result"
    }
   ],
   "source": [
    "#Load Data\n",
    "df = pd.read_csv(\"data/Euro_Salary.csv\")\n",
    "#df.describe(include=\"all\").T\n",
    "df.head(10)"
   ]
  },
  {
   "cell_type": "code",
   "execution_count": 3,
   "metadata": {},
   "outputs": [
    {
     "data": {
      "text/plain": [
       "Javascript / Typescript                                                                   44\n",
       "Python                                                                                    37\n",
       "SQL                                                                                       31\n",
       "AWS, Docker                                                                               16\n",
       "Kotlin                                                                                    15\n",
       "                                                                                          ..\n",
       "Python, Ruby, Java / Scala, Go, Rust, AWS, Kubernetes, Docker, Terraform, helm, packer     1\n",
       "Kotlin, SQL, AWS, Kubernetes, Docker                                                       1\n",
       "Python, R, Go                                                                              1\n",
       "C/C++, PHP, SQL                                                                            1\n",
       "Python, AWS, Kubernetes, Docker, terraform, ansible                                        1\n",
       "Name: Other technologies/programming languages you use often, Length: 562, dtype: int64"
      ]
     },
     "execution_count": 3,
     "metadata": {},
     "output_type": "execute_result"
    }
   ],
   "source": [
    "\n",
    "df[\"Other technologies/programming languages you use often\"].value_counts()"
   ]
  },
  {
   "attachments": {},
   "cell_type": "markdown",
   "metadata": {},
   "source": [
    "### Exploratory Data Analysis (EDA) \n",
    "EDA is going to help us inanalyzing and summarizing our data set's main characteristics. Also, to identify underlying structure of our data, to spot anomalies and outliers, to test underlying assumptions, and to form hypotheses that can be further tested."
   ]
  },
  {
   "cell_type": "code",
   "execution_count": 4,
   "metadata": {},
   "outputs": [
    {
     "name": "stdout",
     "output_type": "stream",
     "text": [
      "<class 'pandas.core.frame.DataFrame'>\n",
      "RangeIndex: 1253 entries, 0 to 1252\n",
      "Data columns (total 18 columns):\n",
      " #   Column                                                  Non-Null Count  Dtype  \n",
      "---  ------                                                  --------------  -----  \n",
      " 0   Timestamp                                               1253 non-null   object \n",
      " 1   Age                                                     1226 non-null   float64\n",
      " 2   Gender                                                  1243 non-null   object \n",
      " 3   City                                                    1253 non-null   object \n",
      " 4   Position                                                1247 non-null   object \n",
      " 5   Total years of experience                               1237 non-null   object \n",
      " 6   Years of experience in Germany                          1221 non-null   object \n",
      " 7   Seniority level                                         1241 non-null   object \n",
      " 8   Your main technology / programming language             1126 non-null   object \n",
      " 9   Other technologies/programming languages you use often  1096 non-null   object \n",
      " 10  Yearly brutto salary (without bonus and stocks) in EUR  1253 non-null   float64\n",
      " 11  Yearly bonus + stocks in EUR                            829 non-null    object \n",
      " 12  Number of vacation days                                 1185 non-null   object \n",
      " 13  Employment status                                       1236 non-null   object \n",
      " 14  Сontract duration                                       1224 non-null   object \n",
      " 15  Main language at work                                   1237 non-null   object \n",
      " 16  Company size                                            1235 non-null   object \n",
      " 17  Company type                                            1228 non-null   object \n",
      "dtypes: float64(2), object(16)\n",
      "memory usage: 176.3+ KB\n"
     ]
    }
   ],
   "source": [
    "df.info()"
   ]
  },
  {
   "cell_type": "code",
   "execution_count": 5,
   "metadata": {},
   "outputs": [
    {
     "data": {
      "text/html": [
       "<div>\n",
       "<style scoped>\n",
       "    .dataframe tbody tr th:only-of-type {\n",
       "        vertical-align: middle;\n",
       "    }\n",
       "\n",
       "    .dataframe tbody tr th {\n",
       "        vertical-align: top;\n",
       "    }\n",
       "\n",
       "    .dataframe thead th {\n",
       "        text-align: right;\n",
       "    }\n",
       "</style>\n",
       "<table border=\"1\" class=\"dataframe\">\n",
       "  <thead>\n",
       "    <tr style=\"text-align: right;\">\n",
       "      <th></th>\n",
       "      <th>Age</th>\n",
       "      <th>Yearly brutto salary (without bonus and stocks) in EUR</th>\n",
       "    </tr>\n",
       "  </thead>\n",
       "  <tbody>\n",
       "    <tr>\n",
       "      <th>count</th>\n",
       "      <td>1226.000000</td>\n",
       "      <td>1.253000e+03</td>\n",
       "    </tr>\n",
       "    <tr>\n",
       "      <th>mean</th>\n",
       "      <td>32.509788</td>\n",
       "      <td>8.027904e+07</td>\n",
       "    </tr>\n",
       "    <tr>\n",
       "      <th>std</th>\n",
       "      <td>5.663804</td>\n",
       "      <td>2.825061e+09</td>\n",
       "    </tr>\n",
       "    <tr>\n",
       "      <th>min</th>\n",
       "      <td>20.000000</td>\n",
       "      <td>1.000100e+04</td>\n",
       "    </tr>\n",
       "    <tr>\n",
       "      <th>25%</th>\n",
       "      <td>29.000000</td>\n",
       "      <td>5.880000e+04</td>\n",
       "    </tr>\n",
       "    <tr>\n",
       "      <th>50%</th>\n",
       "      <td>32.000000</td>\n",
       "      <td>7.000000e+04</td>\n",
       "    </tr>\n",
       "    <tr>\n",
       "      <th>75%</th>\n",
       "      <td>35.000000</td>\n",
       "      <td>8.000000e+04</td>\n",
       "    </tr>\n",
       "    <tr>\n",
       "      <th>max</th>\n",
       "      <td>69.000000</td>\n",
       "      <td>1.000000e+11</td>\n",
       "    </tr>\n",
       "  </tbody>\n",
       "</table>\n",
       "</div>"
      ],
      "text/plain": [
       "               Age  Yearly brutto salary (without bonus and stocks) in EUR\n",
       "count  1226.000000                                       1.253000e+03     \n",
       "mean     32.509788                                       8.027904e+07     \n",
       "std       5.663804                                       2.825061e+09     \n",
       "min      20.000000                                       1.000100e+04     \n",
       "25%      29.000000                                       5.880000e+04     \n",
       "50%      32.000000                                       7.000000e+04     \n",
       "75%      35.000000                                       8.000000e+04     \n",
       "max      69.000000                                       1.000000e+11     "
      ]
     },
     "execution_count": 5,
     "metadata": {},
     "output_type": "execute_result"
    }
   ],
   "source": [
    "df.describe()"
   ]
  },
  {
   "attachments": {},
   "cell_type": "markdown",
   "metadata": {},
   "source": [
    "### Identifying numerical and categorical variables \n",
    "It is an important step in the data preprocessing and analysis phase because:\n",
    "<br>\n",
    "<br>Data Preparation: Numerical variables may require scaling, while categorical variables need to be one-hot encoded before they can be used as inputs to the model.\n",
    "\n",
    "<br>Exploratory Data Analysis: Identifying numerical and categorical variables can help in understanding the structure and distribution of the data, and identify any potential outliers or anomalies.\n",
    "\n",
    "<br>Feature Selection: Numerical and categorical variables may have different feature importances in or model, and this information can be used to select relevant features.\n",
    "\n",
    "<br >Model Selection: For correct model selection.For example, decision trees and random forests are commonly used for categorical data, while linear regression is used for numerical data."
   ]
  },
  {
   "cell_type": "code",
   "execution_count": 6,
   "metadata": {},
   "outputs": [],
   "source": [
    "def find_categorical_numerical(df):\n",
    "    categorical = []\n",
    "    numerical = []\n",
    "    for col in df.columns:\n",
    "        if df[col].dtype == 'object':\n",
    "            categorical.append(col)\n",
    "        else:\n",
    "            numerical.append(col)\n",
    "    return categorical, numerical"
   ]
  },
  {
   "cell_type": "code",
   "execution_count": 7,
   "metadata": {},
   "outputs": [],
   "source": [
    "categorical, numerical = find_categorical_numerical(df)"
   ]
  },
  {
   "cell_type": "code",
   "execution_count": 8,
   "metadata": {},
   "outputs": [
    {
     "name": "stdout",
     "output_type": "stream",
     "text": [
      "categorical Data:\n"
     ]
    },
    {
     "data": {
      "text/plain": [
       "['Timestamp',\n",
       " 'Gender',\n",
       " 'City',\n",
       " 'Position ',\n",
       " 'Total years of experience',\n",
       " 'Years of experience in Germany',\n",
       " 'Seniority level',\n",
       " 'Your main technology / programming language',\n",
       " 'Other technologies/programming languages you use often',\n",
       " 'Yearly bonus + stocks in EUR',\n",
       " 'Number of vacation days',\n",
       " 'Employment status',\n",
       " 'Сontract duration',\n",
       " 'Main language at work',\n",
       " 'Company size',\n",
       " 'Company type']"
      ]
     },
     "execution_count": 8,
     "metadata": {},
     "output_type": "execute_result"
    }
   ],
   "source": [
    "# Categorical data is \n",
    "\n",
    "\n",
    "print(\"categorical Data:\")\n",
    "categorical"
   ]
  },
  {
   "cell_type": "code",
   "execution_count": 9,
   "metadata": {},
   "outputs": [
    {
     "name": "stdout",
     "output_type": "stream",
     "text": [
      "Numerical data:\n"
     ]
    },
    {
     "data": {
      "text/plain": [
       "['Age', 'Yearly brutto salary (without bonus and stocks) in EUR']"
      ]
     },
     "execution_count": 9,
     "metadata": {},
     "output_type": "execute_result"
    }
   ],
   "source": [
    "# Numerical data is :\n",
    "\n",
    "\n",
    "print(\"Numerical data:\")\n",
    "numerical"
   ]
  },
  {
   "attachments": {},
   "cell_type": "markdown",
   "metadata": {},
   "source": [
    "### Finding nan's in our dataset:\n",
    "The presence of NaN values can impact the accuracy and reliability of the results of any analysis or modeling performed on the dataset. It is therefore important to handle missing values appropriately, either by imputing the missing values or removing the observations with missing values."
   ]
  },
  {
   "cell_type": "code",
   "execution_count": 10,
   "metadata": {},
   "outputs": [
    {
     "data": {
      "text/plain": [
       "Timestamp                                                   0\n",
       "Age                                                        27\n",
       "Gender                                                     10\n",
       "City                                                        0\n",
       "Position                                                    6\n",
       "Total years of experience                                  16\n",
       "Years of experience in Germany                             32\n",
       "Seniority level                                            12\n",
       "Your main technology / programming language               127\n",
       "Other technologies/programming languages you use often    157\n",
       "Yearly brutto salary (without bonus and stocks) in EUR      0\n",
       "Yearly bonus + stocks in EUR                              424\n",
       "Number of vacation days                                    68\n",
       "Employment status                                          17\n",
       "Сontract duration                                          29\n",
       "Main language at work                                      16\n",
       "Company size                                               18\n",
       "Company type                                               25\n",
       "dtype: int64"
      ]
     },
     "execution_count": 10,
     "metadata": {},
     "output_type": "execute_result"
    }
   ],
   "source": [
    "df.isna().sum()"
   ]
  },
  {
   "attachments": {},
   "cell_type": "markdown",
   "metadata": {},
   "source": [
    "### Imputation\n",
    "Imputing  is the process of replacing missing (categorical and numerical) or invalid values in a dataset with estimated values."
   ]
  },
  {
   "cell_type": "code",
   "execution_count": 11,
   "metadata": {},
   "outputs": [],
   "source": [
    "#Imputing for categorical variables, filling the missing values with the mode of the data.\n",
    "df['Gender']=df['Gender'].fillna(df['Gender'].mode()[0])\n",
    "df['Position ']=df['Position '].fillna(df['Position '].mode()[0])\n",
    "df['Total years of experience']=df['Total years of experience'].fillna(df['Total years of experience'].mode()[0])\n",
    "df['Seniority level']=df['Seniority level'].fillna(df['Seniority level'].mode()[0])\n",
    "df['Your main technology / programming language']=df['Your main technology / programming language'].fillna(df['Your main technology / programming language'].mode()[0])\n",
    "df['Other technologies/programming languages you use often']=df['Other technologies/programming languages you use often'].fillna(df['Other technologies/programming languages you use often'].mode()[0])\n",
    "df['Yearly bonus + stocks in EUR']=df['Yearly bonus + stocks in EUR'].fillna(df['Yearly bonus + stocks in EUR'].mode()[0])\n",
    "df['Number of vacation days']=df['Number of vacation days'].fillna(df['Number of vacation days'].mode()[0])\n",
    "df['Employment status']=df['Employment status'].fillna(df['Employment status'].mode()[0])\n",
    "df['Сontract duration']=df['Сontract duration'].fillna(df['Сontract duration'].mode()[0])\n",
    "df['Main language at work']=df['Main language at work'].fillna(df['Main language at work'].mode()[0])\n",
    "df['Company size']=df['Company size'].fillna(df['Company size'].mode()[0])\n",
    "df['Company type']=df['Company type'].fillna(df['Company type'].mode()[0])"
   ]
  },
  {
   "cell_type": "code",
   "execution_count": 12,
   "metadata": {},
   "outputs": [],
   "source": [
    "#Imputing numerical variables, filling the missing values with Mean of the data.\n",
    "df['Age']=df['Age'].fillna(df['Age'].mean())\n"
   ]
  },
  {
   "cell_type": "code",
   "execution_count": 13,
   "metadata": {},
   "outputs": [],
   "source": [
    "# Drop the timestamp as it is irrelevant \n",
    "df=df.drop(['Timestamp'],axis=1)"
   ]
  },
  {
   "cell_type": "code",
   "execution_count": 14,
   "metadata": {},
   "outputs": [],
   "source": [
    "# Drop the 'Years of experience in Germany' as it is irrelevant \n",
    "df=df.drop(['Years of experience in Germany'],axis=1)"
   ]
  },
  {
   "cell_type": "code",
   "execution_count": 15,
   "metadata": {},
   "outputs": [
    {
     "name": "stdout",
     "output_type": "stream",
     "text": [
      "<class 'pandas.core.frame.DataFrame'>\n",
      "RangeIndex: 1253 entries, 0 to 1252\n",
      "Data columns (total 16 columns):\n",
      " #   Column                                                  Non-Null Count  Dtype  \n",
      "---  ------                                                  --------------  -----  \n",
      " 0   Age                                                     1253 non-null   float64\n",
      " 1   Gender                                                  1253 non-null   object \n",
      " 2   City                                                    1253 non-null   object \n",
      " 3   Position                                                1253 non-null   object \n",
      " 4   Total years of experience                               1253 non-null   object \n",
      " 5   Seniority level                                         1253 non-null   object \n",
      " 6   Your main technology / programming language             1253 non-null   object \n",
      " 7   Other technologies/programming languages you use often  1253 non-null   object \n",
      " 8   Yearly brutto salary (without bonus and stocks) in EUR  1253 non-null   float64\n",
      " 9   Yearly bonus + stocks in EUR                            1253 non-null   object \n",
      " 10  Number of vacation days                                 1253 non-null   object \n",
      " 11  Employment status                                       1253 non-null   object \n",
      " 12  Сontract duration                                       1253 non-null   object \n",
      " 13  Main language at work                                   1253 non-null   object \n",
      " 14  Company size                                            1253 non-null   object \n",
      " 15  Company type                                            1253 non-null   object \n",
      "dtypes: float64(2), object(14)\n",
      "memory usage: 156.8+ KB\n"
     ]
    }
   ],
   "source": [
    "df.info()"
   ]
  },
  {
   "cell_type": "code",
   "execution_count": 16,
   "metadata": {},
   "outputs": [
    {
     "data": {
      "text/html": [
       "<div>\n",
       "<style scoped>\n",
       "    .dataframe tbody tr th:only-of-type {\n",
       "        vertical-align: middle;\n",
       "    }\n",
       "\n",
       "    .dataframe tbody tr th {\n",
       "        vertical-align: top;\n",
       "    }\n",
       "\n",
       "    .dataframe thead th {\n",
       "        text-align: right;\n",
       "    }\n",
       "</style>\n",
       "<table border=\"1\" class=\"dataframe\">\n",
       "  <thead>\n",
       "    <tr style=\"text-align: right;\">\n",
       "      <th></th>\n",
       "      <th>Age</th>\n",
       "      <th>Gender</th>\n",
       "      <th>City</th>\n",
       "      <th>Position</th>\n",
       "      <th>Total years of experience</th>\n",
       "      <th>Seniority level</th>\n",
       "      <th>Your main technology / programming language</th>\n",
       "      <th>Other technologies/programming languages you use often</th>\n",
       "      <th>Yearly brutto salary (without bonus and stocks) in EUR</th>\n",
       "      <th>Yearly bonus + stocks in EUR</th>\n",
       "      <th>Number of vacation days</th>\n",
       "      <th>Employment status</th>\n",
       "      <th>Сontract duration</th>\n",
       "      <th>Main language at work</th>\n",
       "      <th>Company size</th>\n",
       "      <th>Company type</th>\n",
       "    </tr>\n",
       "  </thead>\n",
       "  <tbody>\n",
       "    <tr>\n",
       "      <th>364</th>\n",
       "      <td>29.0</td>\n",
       "      <td>Male</td>\n",
       "      <td>Berlin</td>\n",
       "      <td>Backend Developer</td>\n",
       "      <td>11</td>\n",
       "      <td>Senior</td>\n",
       "      <td>Python</td>\n",
       "      <td>Python, Go, AWS, Kubernetes, Docker</td>\n",
       "      <td>85000.0</td>\n",
       "      <td>4000</td>\n",
       "      <td>30</td>\n",
       "      <td>Full-time employee</td>\n",
       "      <td>Unlimited contract</td>\n",
       "      <td>English</td>\n",
       "      <td>51-100</td>\n",
       "      <td>Product</td>\n",
       "    </tr>\n",
       "    <tr>\n",
       "      <th>282</th>\n",
       "      <td>33.0</td>\n",
       "      <td>Female</td>\n",
       "      <td>Munich</td>\n",
       "      <td>QA Engineer</td>\n",
       "      <td>6.5</td>\n",
       "      <td>Senior</td>\n",
       "      <td>Java</td>\n",
       "      <td>Javascript / Typescript</td>\n",
       "      <td>58000.0</td>\n",
       "      <td>3500</td>\n",
       "      <td>30</td>\n",
       "      <td>Full-time employee</td>\n",
       "      <td>Unlimited contract</td>\n",
       "      <td>English</td>\n",
       "      <td>101-1000</td>\n",
       "      <td>Product</td>\n",
       "    </tr>\n",
       "    <tr>\n",
       "      <th>912</th>\n",
       "      <td>30.0</td>\n",
       "      <td>Female</td>\n",
       "      <td>Jena</td>\n",
       "      <td>Software Engineer</td>\n",
       "      <td>4</td>\n",
       "      <td>Middle</td>\n",
       "      <td>JS</td>\n",
       "      <td>Python, PHP, Javascript / Typescript, SQL, AWS</td>\n",
       "      <td>54000.0</td>\n",
       "      <td>0</td>\n",
       "      <td>30</td>\n",
       "      <td>Full-time employee</td>\n",
       "      <td>Temporary contract</td>\n",
       "      <td>English</td>\n",
       "      <td>101-1000</td>\n",
       "      <td>Institute</td>\n",
       "    </tr>\n",
       "    <tr>\n",
       "      <th>430</th>\n",
       "      <td>27.0</td>\n",
       "      <td>Female</td>\n",
       "      <td>Berlin</td>\n",
       "      <td>Backend Developer</td>\n",
       "      <td>3</td>\n",
       "      <td>Middle</td>\n",
       "      <td>Java</td>\n",
       "      <td>Javascript / Typescript</td>\n",
       "      <td>60000.0</td>\n",
       "      <td>0</td>\n",
       "      <td>24</td>\n",
       "      <td>Full-time employee</td>\n",
       "      <td>Unlimited contract</td>\n",
       "      <td>English</td>\n",
       "      <td>11-50</td>\n",
       "      <td>Product</td>\n",
       "    </tr>\n",
       "    <tr>\n",
       "      <th>732</th>\n",
       "      <td>36.0</td>\n",
       "      <td>Male</td>\n",
       "      <td>Munich</td>\n",
       "      <td>DevOps</td>\n",
       "      <td>16</td>\n",
       "      <td>Senior</td>\n",
       "      <td>SRE</td>\n",
       "      <td>Python, C/C++, Go</td>\n",
       "      <td>105000.0</td>\n",
       "      <td>150000</td>\n",
       "      <td>30</td>\n",
       "      <td>Full-time employee</td>\n",
       "      <td>Unlimited contract</td>\n",
       "      <td>English</td>\n",
       "      <td>1000+</td>\n",
       "      <td>Product</td>\n",
       "    </tr>\n",
       "  </tbody>\n",
       "</table>\n",
       "</div>"
      ],
      "text/plain": [
       "      Age  Gender    City          Position  Total years of experience  \\\n",
       "364  29.0    Male  Berlin  Backend Developer                        11   \n",
       "282  33.0  Female  Munich        QA Engineer                       6.5   \n",
       "912  30.0  Female    Jena  Software Engineer                         4   \n",
       "430  27.0  Female  Berlin  Backend Developer                         3   \n",
       "732  36.0    Male  Munich             DevOps                        16   \n",
       "\n",
       "    Seniority level Your main technology / programming language  \\\n",
       "364          Senior                                      Python   \n",
       "282          Senior                                        Java   \n",
       "912          Middle                                          JS   \n",
       "430          Middle                                        Java   \n",
       "732          Senior                                         SRE   \n",
       "\n",
       "    Other technologies/programming languages you use often  \\\n",
       "364                Python, Go, AWS, Kubernetes, Docker       \n",
       "282                            Javascript / Typescript       \n",
       "912     Python, PHP, Javascript / Typescript, SQL, AWS       \n",
       "430                            Javascript / Typescript       \n",
       "732                                  Python, C/C++, Go       \n",
       "\n",
       "     Yearly brutto salary (without bonus and stocks) in EUR  \\\n",
       "364                                            85000.0        \n",
       "282                                            58000.0        \n",
       "912                                            54000.0        \n",
       "430                                            60000.0        \n",
       "732                                           105000.0        \n",
       "\n",
       "    Yearly bonus + stocks in EUR Number of vacation days   Employment status  \\\n",
       "364                         4000                      30  Full-time employee   \n",
       "282                         3500                      30  Full-time employee   \n",
       "912                            0                      30  Full-time employee   \n",
       "430                            0                      24  Full-time employee   \n",
       "732                       150000                      30  Full-time employee   \n",
       "\n",
       "      Сontract duration Main language at work Company size Company type  \n",
       "364  Unlimited contract               English       51-100      Product  \n",
       "282  Unlimited contract               English     101-1000      Product  \n",
       "912  Temporary contract               English     101-1000    Institute  \n",
       "430  Unlimited contract               English        11-50      Product  \n",
       "732  Unlimited contract               English        1000+      Product  "
      ]
     },
     "execution_count": 16,
     "metadata": {},
     "output_type": "execute_result"
    }
   ],
   "source": [
    "df.sample(5)"
   ]
  },
  {
   "cell_type": "code",
   "execution_count": 17,
   "metadata": {},
   "outputs": [],
   "source": [
    "df['Seniority level']=df['Seniority level'].astype('category')\n",
    "df['Position ']=df['Position '].astype('category')\n",
    "df['Total years of experience']=df['Total years of experience'].astype('category')\n",
    "df['Gender']=df['Gender'].astype('category')\n",
    "df['Yearly brutto salary (without bonus and stocks) in EUR']=df['Yearly brutto salary (without bonus and stocks) in EUR'].astype(int)"
   ]
  },
  {
   "cell_type": "code",
   "execution_count": 18,
   "metadata": {},
   "outputs": [
    {
     "data": {
      "text/plain": [
       "<AxesSubplot:xlabel='Total years of experience', ylabel='count'>"
      ]
     },
     "execution_count": 18,
     "metadata": {},
     "output_type": "execute_result"
    },
    {
     "data": {
      "image/png": "[encoded data removed]",
      "text/plain": [
       "<Figure size 720x576 with 4 Axes>"
      ]
     },
     "metadata": {
      "needs_background": "light"
     },
     "output_type": "display_data"
    }
   ],
   "source": [
    "#Countplots for categorical variable\n",
    "fig, ax=plt.subplots(nrows=2,ncols=2,figsize=(10,8))\n",
    "sns.countplot(x='Seniority level', data=df,ax=ax[0,0])\n",
    "sns.countplot(x='Gender',data=df,ax=ax[0,1])\n",
    "sns.countplot(x='Total years of experience',data=df,ax=ax[1,0])"
   ]
  },
  {
   "cell_type": "code",
   "execution_count": 19,
   "metadata": {},
   "outputs": [
    {
     "data": {
      "text/plain": [
       "<AxesSubplot:xlabel='Gender', ylabel='Yearly brutto salary (without bonus and stocks) in EUR'>"
      ]
     },
     "execution_count": 19,
     "metadata": {},
     "output_type": "execute_result"
    },
    {
     "data": {
      "image/png": "[encoded data removed]",
      "text/plain": [
       "<Figure size 1080x576 with 4 Axes>"
      ]
     },
     "metadata": {
      "needs_background": "light"
     },
     "output_type": "display_data"
    }
   ],
   "source": [
    "import seaborn as sns\n",
    "import matplotlib.pyplot as plt\n",
    "\n",
    "\n",
    "#Categorical Plotting\n",
    "fig,ax=plt.subplots(nrows=2,ncols=2,figsize=(15,8))\n",
    "sns.boxplot(x='Seniority level',y='Yearly brutto salary (without bonus and stocks) in EUR',data=df,ax=ax[0,0])\n",
    "sns.boxplot(x='Position ',y='Yearly brutto salary (without bonus and stocks) in EUR',data=df ,ax=ax[0,1])\n",
    "sns.boxplot(x='Total years of experience',y='Yearly brutto salary (without bonus and stocks) in EUR',data=df ,ax=ax[1,0])\n",
    "sns.boxplot(x='Gender',y='Yearly brutto salary (without bonus and stocks) in EUR',data=df ,ax=ax[1,1])"
   ]
  },
  {
   "cell_type": "code",
   "execution_count": 20,
   "metadata": {},
   "outputs": [
    {
     "data": {
      "text/plain": [
       "<AxesSubplot:xlabel='Yearly brutto salary (without bonus and stocks) in EUR', ylabel='Density'>"
      ]
     },
     "execution_count": 20,
     "metadata": {},
     "output_type": "execute_result"
    },
    {
     "data": {
      "image/png": "[encoded data removed]",
      "text/plain": [
       "<Figure size 432x288 with 1 Axes>"
      ]
     },
     "metadata": {
      "needs_background": "light"
     },
     "output_type": "display_data"
    }
   ],
   "source": [
    "sns.kdeplot(data=df, x=\"Yearly brutto salary (without bonus and stocks) in EUR\")"
   ]
  },
  {
   "cell_type": "code",
   "execution_count": 21,
   "metadata": {},
   "outputs": [
    {
     "data": {
      "image/png": "[encoded data removed]",
      "text/plain": [
       "<Figure size 432x288 with 2 Axes>"
      ]
     },
     "metadata": {
      "needs_background": "light"
     },
     "output_type": "display_data"
    }
   ],
   "source": [
    "corr = df.corr()\n",
    "sns.heatmap(corr, annot=True)\n",
    "#plt.figure(figsize=(50,50))\n",
    "plt.rcParams[\"figure.figsize\"] = (10,10)"
   ]
  },
  {
   "cell_type": "code",
   "execution_count": 22,
   "metadata": {},
   "outputs": [
    {
     "data": {
      "text/html": [
       "<div>\n",
       "<style scoped>\n",
       "    .dataframe tbody tr th:only-of-type {\n",
       "        vertical-align: middle;\n",
       "    }\n",
       "\n",
       "    .dataframe tbody tr th {\n",
       "        vertical-align: top;\n",
       "    }\n",
       "\n",
       "    .dataframe thead th {\n",
       "        text-align: right;\n",
       "    }\n",
       "</style>\n",
       "<table border=\"1\" class=\"dataframe\">\n",
       "  <thead>\n",
       "    <tr style=\"text-align: right;\">\n",
       "      <th></th>\n",
       "      <th>Age</th>\n",
       "      <th>Gender</th>\n",
       "      <th>City</th>\n",
       "      <th>Position</th>\n",
       "      <th>Total years of experience</th>\n",
       "      <th>Seniority level</th>\n",
       "      <th>Your main technology / programming language</th>\n",
       "      <th>Other technologies/programming languages you use often</th>\n",
       "      <th>Yearly brutto salary (without bonus and stocks) in EUR</th>\n",
       "      <th>Yearly bonus + stocks in EUR</th>\n",
       "      <th>Number of vacation days</th>\n",
       "      <th>Employment status</th>\n",
       "      <th>Сontract duration</th>\n",
       "      <th>Main language at work</th>\n",
       "      <th>Company size</th>\n",
       "      <th>Company type</th>\n",
       "    </tr>\n",
       "  </thead>\n",
       "  <tbody>\n",
       "    <tr>\n",
       "      <th>0</th>\n",
       "      <td>26.0</td>\n",
       "      <td>Male</td>\n",
       "      <td>Munich</td>\n",
       "      <td>Software Engineer</td>\n",
       "      <td>5</td>\n",
       "      <td>Senior</td>\n",
       "      <td>TypeScript</td>\n",
       "      <td>Kotlin, Javascript / Typescript</td>\n",
       "      <td>80000</td>\n",
       "      <td>5000</td>\n",
       "      <td>30</td>\n",
       "      <td>Full-time employee</td>\n",
       "      <td>Unlimited contract</td>\n",
       "      <td>English</td>\n",
       "      <td>51-100</td>\n",
       "      <td>Product</td>\n",
       "    </tr>\n",
       "    <tr>\n",
       "      <th>1</th>\n",
       "      <td>26.0</td>\n",
       "      <td>Male</td>\n",
       "      <td>Berlin</td>\n",
       "      <td>Backend Developer</td>\n",
       "      <td>7</td>\n",
       "      <td>Senior</td>\n",
       "      <td>Ruby</td>\n",
       "      <td>Javascript / Typescript</td>\n",
       "      <td>80000</td>\n",
       "      <td>0</td>\n",
       "      <td>28</td>\n",
       "      <td>Full-time employee</td>\n",
       "      <td>Unlimited contract</td>\n",
       "      <td>English</td>\n",
       "      <td>101-1000</td>\n",
       "      <td>Product</td>\n",
       "    </tr>\n",
       "  </tbody>\n",
       "</table>\n",
       "</div>"
      ],
      "text/plain": [
       "    Age Gender    City          Position  Total years of experience  \\\n",
       "0  26.0   Male  Munich  Software Engineer                         5   \n",
       "1  26.0   Male  Berlin  Backend Developer                         7   \n",
       "\n",
       "  Seniority level Your main technology / programming language  \\\n",
       "0          Senior                                  TypeScript   \n",
       "1          Senior                                        Ruby   \n",
       "\n",
       "  Other technologies/programming languages you use often  \\\n",
       "0                    Kotlin, Javascript / Typescript       \n",
       "1                            Javascript / Typescript       \n",
       "\n",
       "   Yearly brutto salary (without bonus and stocks) in EUR  \\\n",
       "0                                              80000        \n",
       "1                                              80000        \n",
       "\n",
       "  Yearly bonus + stocks in EUR Number of vacation days   Employment status  \\\n",
       "0                         5000                      30  Full-time employee   \n",
       "1                            0                      28  Full-time employee   \n",
       "\n",
       "    Сontract duration Main language at work Company size Company type  \n",
       "0  Unlimited contract               English       51-100      Product  \n",
       "1  Unlimited contract               English     101-1000      Product  "
      ]
     },
     "execution_count": 22,
     "metadata": {},
     "output_type": "execute_result"
    }
   ],
   "source": [
    "df.head(2)"
   ]
  },
  {
   "cell_type": "code",
   "execution_count": 23,
   "metadata": {},
   "outputs": [],
   "source": [
    "y = df[\"Yearly brutto salary (without bonus and stocks) in EUR\"]\n",
    "X = df.drop(columns={\"Yearly brutto salary (without bonus and stocks) in EUR\"})"
   ]
  },
  {
   "cell_type": "code",
   "execution_count": 28,
   "metadata": {},
   "outputs": [],
   "source": [
    "from sklearn.feature_selection import SelectKBest\n",
    "from sklearn.feature_selection import chi2\n",
    "from sklearn.feature_selection import mutual_info_classif\n",
    "from sklearn.feature_selection import SelectPercentile\n",
    "from sklearn.ensemble import RandomForestClassifier "
   ]
  },
  {
   "cell_type": "code",
   "execution_count": 29,
   "metadata": {},
   "outputs": [
    {
     "ename": "ValueError",
     "evalue": "could not convert string to float: 'Male'",
     "output_type": "error",
     "traceback": [
      "\u001b[1;31m---------------------------------------------------------------------------\u001b[0m",
      "\u001b[1;31mValueError\u001b[0m                                Traceback (most recent call last)",
      "\u001b[1;32mc:\\Users\\shikh\\OneDrive\\Documents\\DATA-3950\\ItML_Asn_2_Students\\assignment_2_start.ipynb Cell 30\u001b[0m in \u001b[0;36m<cell line: 2>\u001b[1;34m()\u001b[0m\n\u001b[0;32m      <a href='vscode-notebook-cell:/c%3A/Users/shikh/OneDrive/Documents/DATA-3950/ItML_Asn_2_Students/assignment_2_start.ipynb#X43sZmlsZQ%3D%3D?line=0'>1</a>\u001b[0m \u001b[39m#Tree Based\u001b[39;00m\n\u001b[1;32m----> <a href='vscode-notebook-cell:/c%3A/Users/shikh/OneDrive/Documents/DATA-3950/ItML_Asn_2_Students/assignment_2_start.ipynb#X43sZmlsZQ%3D%3D?line=1'>2</a>\u001b[0m tree_sel \u001b[39m=\u001b[39m RandomForestClassifier()\u001b[39m.\u001b[39;49mfit(X, y)\n\u001b[0;32m      <a href='vscode-notebook-cell:/c%3A/Users/shikh/OneDrive/Documents/DATA-3950/ItML_Asn_2_Students/assignment_2_start.ipynb#X43sZmlsZQ%3D%3D?line=2'>3</a>\u001b[0m sfm_class \u001b[39m=\u001b[39m SelectFromModel(tree_sel, prefit\u001b[39m=\u001b[39m\u001b[39mTrue\u001b[39;00m)\n\u001b[0;32m      <a href='vscode-notebook-cell:/c%3A/Users/shikh/OneDrive/Documents/DATA-3950/ItML_Asn_2_Students/assignment_2_start.ipynb#X43sZmlsZQ%3D%3D?line=3'>4</a>\u001b[0m x_new \u001b[39m=\u001b[39m sfm_class\u001b[39m.\u001b[39mtransform(X)\n",
      "File \u001b[1;32mc:\\Users\\shikh\\anaconda3\\lib\\site-packages\\sklearn\\ensemble\\_forest.py:331\u001b[0m, in \u001b[0;36mBaseForest.fit\u001b[1;34m(self, X, y, sample_weight)\u001b[0m\n\u001b[0;32m    329\u001b[0m \u001b[39mif\u001b[39;00m issparse(y):\n\u001b[0;32m    330\u001b[0m     \u001b[39mraise\u001b[39;00m \u001b[39mValueError\u001b[39;00m(\u001b[39m\"\u001b[39m\u001b[39msparse multilabel-indicator for y is not supported.\u001b[39m\u001b[39m\"\u001b[39m)\n\u001b[1;32m--> 331\u001b[0m X, y \u001b[39m=\u001b[39m \u001b[39mself\u001b[39;49m\u001b[39m.\u001b[39;49m_validate_data(\n\u001b[0;32m    332\u001b[0m     X, y, multi_output\u001b[39m=\u001b[39;49m\u001b[39mTrue\u001b[39;49;00m, accept_sparse\u001b[39m=\u001b[39;49m\u001b[39m\"\u001b[39;49m\u001b[39mcsc\u001b[39;49m\u001b[39m\"\u001b[39;49m, dtype\u001b[39m=\u001b[39;49mDTYPE\n\u001b[0;32m    333\u001b[0m )\n\u001b[0;32m    334\u001b[0m \u001b[39mif\u001b[39;00m sample_weight \u001b[39mis\u001b[39;00m \u001b[39mnot\u001b[39;00m \u001b[39mNone\u001b[39;00m:\n\u001b[0;32m    335\u001b[0m     sample_weight \u001b[39m=\u001b[39m _check_sample_weight(sample_weight, X)\n",
      "File \u001b[1;32mc:\\Users\\shikh\\anaconda3\\lib\\site-packages\\sklearn\\base.py:596\u001b[0m, in \u001b[0;36mBaseEstimator._validate_data\u001b[1;34m(self, X, y, reset, validate_separately, **check_params)\u001b[0m\n\u001b[0;32m    594\u001b[0m         y \u001b[39m=\u001b[39m check_array(y, input_name\u001b[39m=\u001b[39m\u001b[39m\"\u001b[39m\u001b[39my\u001b[39m\u001b[39m\"\u001b[39m, \u001b[39m*\u001b[39m\u001b[39m*\u001b[39mcheck_y_params)\n\u001b[0;32m    595\u001b[0m     \u001b[39melse\u001b[39;00m:\n\u001b[1;32m--> 596\u001b[0m         X, y \u001b[39m=\u001b[39m check_X_y(X, y, \u001b[39m*\u001b[39m\u001b[39m*\u001b[39mcheck_params)\n\u001b[0;32m    597\u001b[0m     out \u001b[39m=\u001b[39m X, y\n\u001b[0;32m    599\u001b[0m \u001b[39mif\u001b[39;00m \u001b[39mnot\u001b[39;00m no_val_X \u001b[39mand\u001b[39;00m check_params\u001b[39m.\u001b[39mget(\u001b[39m\"\u001b[39m\u001b[39mensure_2d\u001b[39m\u001b[39m\"\u001b[39m, \u001b[39mTrue\u001b[39;00m):\n",
      "File \u001b[1;32mc:\\Users\\shikh\\anaconda3\\lib\\site-packages\\sklearn\\utils\\validation.py:1074\u001b[0m, in \u001b[0;36mcheck_X_y\u001b[1;34m(X, y, accept_sparse, accept_large_sparse, dtype, order, copy, force_all_finite, ensure_2d, allow_nd, multi_output, ensure_min_samples, ensure_min_features, y_numeric, estimator)\u001b[0m\n\u001b[0;32m   1069\u001b[0m         estimator_name \u001b[39m=\u001b[39m _check_estimator_name(estimator)\n\u001b[0;32m   1070\u001b[0m     \u001b[39mraise\u001b[39;00m \u001b[39mValueError\u001b[39;00m(\n\u001b[0;32m   1071\u001b[0m         \u001b[39mf\u001b[39m\u001b[39m\"\u001b[39m\u001b[39m{\u001b[39;00mestimator_name\u001b[39m}\u001b[39;00m\u001b[39m requires y to be passed, but the target y is None\u001b[39m\u001b[39m\"\u001b[39m\n\u001b[0;32m   1072\u001b[0m     )\n\u001b[1;32m-> 1074\u001b[0m X \u001b[39m=\u001b[39m check_array(\n\u001b[0;32m   1075\u001b[0m     X,\n\u001b[0;32m   1076\u001b[0m     accept_sparse\u001b[39m=\u001b[39;49maccept_sparse,\n\u001b[0;32m   1077\u001b[0m     accept_large_sparse\u001b[39m=\u001b[39;49maccept_large_sparse,\n\u001b[0;32m   1078\u001b[0m     dtype\u001b[39m=\u001b[39;49mdtype,\n\u001b[0;32m   1079\u001b[0m     order\u001b[39m=\u001b[39;49morder,\n\u001b[0;32m   1080\u001b[0m     copy\u001b[39m=\u001b[39;49mcopy,\n\u001b[0;32m   1081\u001b[0m     force_all_finite\u001b[39m=\u001b[39;49mforce_all_finite,\n\u001b[0;32m   1082\u001b[0m     ensure_2d\u001b[39m=\u001b[39;49mensure_2d,\n\u001b[0;32m   1083\u001b[0m     allow_nd\u001b[39m=\u001b[39;49mallow_nd,\n\u001b[0;32m   1084\u001b[0m     ensure_min_samples\u001b[39m=\u001b[39;49mensure_min_samples,\n\u001b[0;32m   1085\u001b[0m     ensure_min_features\u001b[39m=\u001b[39;49mensure_min_features,\n\u001b[0;32m   1086\u001b[0m     estimator\u001b[39m=\u001b[39;49mestimator,\n\u001b[0;32m   1087\u001b[0m     input_name\u001b[39m=\u001b[39;49m\u001b[39m\"\u001b[39;49m\u001b[39mX\u001b[39;49m\u001b[39m\"\u001b[39;49m,\n\u001b[0;32m   1088\u001b[0m )\n\u001b[0;32m   1090\u001b[0m y \u001b[39m=\u001b[39m _check_y(y, multi_output\u001b[39m=\u001b[39mmulti_output, y_numeric\u001b[39m=\u001b[39my_numeric, estimator\u001b[39m=\u001b[39mestimator)\n\u001b[0;32m   1092\u001b[0m check_consistent_length(X, y)\n",
      "File \u001b[1;32mc:\\Users\\shikh\\anaconda3\\lib\\site-packages\\sklearn\\utils\\validation.py:856\u001b[0m, in \u001b[0;36mcheck_array\u001b[1;34m(array, accept_sparse, accept_large_sparse, dtype, order, copy, force_all_finite, ensure_2d, allow_nd, ensure_min_samples, ensure_min_features, estimator, input_name)\u001b[0m\n\u001b[0;32m    854\u001b[0m         array \u001b[39m=\u001b[39m array\u001b[39m.\u001b[39mastype(dtype, casting\u001b[39m=\u001b[39m\u001b[39m\"\u001b[39m\u001b[39munsafe\u001b[39m\u001b[39m\"\u001b[39m, copy\u001b[39m=\u001b[39m\u001b[39mFalse\u001b[39;00m)\n\u001b[0;32m    855\u001b[0m     \u001b[39melse\u001b[39;00m:\n\u001b[1;32m--> 856\u001b[0m         array \u001b[39m=\u001b[39m np\u001b[39m.\u001b[39;49masarray(array, order\u001b[39m=\u001b[39;49morder, dtype\u001b[39m=\u001b[39;49mdtype)\n\u001b[0;32m    857\u001b[0m \u001b[39mexcept\u001b[39;00m ComplexWarning \u001b[39mas\u001b[39;00m complex_warning:\n\u001b[0;32m    858\u001b[0m     \u001b[39mraise\u001b[39;00m \u001b[39mValueError\u001b[39;00m(\n\u001b[0;32m    859\u001b[0m         \u001b[39m\"\u001b[39m\u001b[39mComplex data not supported\u001b[39m\u001b[39m\\n\u001b[39;00m\u001b[39m{}\u001b[39;00m\u001b[39m\\n\u001b[39;00m\u001b[39m\"\u001b[39m\u001b[39m.\u001b[39mformat(array)\n\u001b[0;32m    860\u001b[0m     ) \u001b[39mfrom\u001b[39;00m \u001b[39mcomplex_warning\u001b[39;00m\n",
      "File \u001b[1;32mc:\\Users\\shikh\\anaconda3\\lib\\site-packages\\pandas\\core\\generic.py:2064\u001b[0m, in \u001b[0;36mNDFrame.__array__\u001b[1;34m(self, dtype)\u001b[0m\n\u001b[0;32m   2063\u001b[0m \u001b[39mdef\u001b[39;00m \u001b[39m__array__\u001b[39m(\u001b[39mself\u001b[39m, dtype: npt\u001b[39m.\u001b[39mDTypeLike \u001b[39m|\u001b[39m \u001b[39mNone\u001b[39;00m \u001b[39m=\u001b[39m \u001b[39mNone\u001b[39;00m) \u001b[39m-\u001b[39m\u001b[39m>\u001b[39m np\u001b[39m.\u001b[39mndarray:\n\u001b[1;32m-> 2064\u001b[0m     \u001b[39mreturn\u001b[39;00m np\u001b[39m.\u001b[39;49masarray(\u001b[39mself\u001b[39;49m\u001b[39m.\u001b[39;49m_values, dtype\u001b[39m=\u001b[39;49mdtype)\n",
      "\u001b[1;31mValueError\u001b[0m: could not convert string to float: 'Male'"
     ]
    }
   ],
   "source": [
    "#Tree Based\n",
    "tree_sel = RandomForestClassifier().fit(X, y)\n",
    "sfm_class = SelectFromModel(tree_sel, prefit=True)\n",
    "x_new = sfm_class.transform(X)\n",
    "print(x_new.shape)\n",
    "\n",
    "mask = sfm_class.get_support()\n",
    "new_features = X.columns[mask]\n",
    "print(new_features)"
   ]
  },
  {
   "cell_type": "code",
   "execution_count": 26,
   "metadata": {},
   "outputs": [
    {
     "ename": "ValueError",
     "evalue": "could not convert string to float: 'Male'",
     "output_type": "error",
     "traceback": [
      "\u001b[1;31m---------------------------------------------------------------------------\u001b[0m",
      "\u001b[1;31mValueError\u001b[0m                                Traceback (most recent call last)",
      "\u001b[1;32mc:\\Users\\shikh\\OneDrive\\Documents\\DATA-3950\\ItML_Asn_2_Students\\assignment_2_start.ipynb Cell 30\u001b[0m in \u001b[0;36m<cell line: 1>\u001b[1;34m()\u001b[0m\n\u001b[1;32m----> <a href='vscode-notebook-cell:/c%3A/Users/shikh/OneDrive/Documents/DATA-3950/ItML_Asn_2_Students/assignment_2_start.ipynb#X41sZmlsZQ%3D%3D?line=0'>1</a>\u001b[0m post_mut_inf \u001b[39m=\u001b[39m SelectPercentile(score_func\u001b[39m=\u001b[39;49mmutual_info_classif, percentile\u001b[39m=\u001b[39;49m\u001b[39m50\u001b[39;49m)\u001b[39m.\u001b[39;49mfit_transform(X,y\u001b[39m.\u001b[39;49mravel())\n\u001b[0;32m      <a href='vscode-notebook-cell:/c%3A/Users/shikh/OneDrive/Documents/DATA-3950/ItML_Asn_2_Students/assignment_2_start.ipynb#X41sZmlsZQ%3D%3D?line=1'>2</a>\u001b[0m \u001b[39mprint\u001b[39m(\u001b[39m\"\u001b[39m\u001b[39mMutual Info:\u001b[39m\u001b[39m\"\u001b[39m, post_mut_inf\u001b[39m.\u001b[39mshape)\n",
      "File \u001b[1;32mc:\\Users\\shikh\\anaconda3\\lib\\site-packages\\sklearn\\base.py:870\u001b[0m, in \u001b[0;36mTransformerMixin.fit_transform\u001b[1;34m(self, X, y, **fit_params)\u001b[0m\n\u001b[0;32m    867\u001b[0m     \u001b[39mreturn\u001b[39;00m \u001b[39mself\u001b[39m\u001b[39m.\u001b[39mfit(X, \u001b[39m*\u001b[39m\u001b[39m*\u001b[39mfit_params)\u001b[39m.\u001b[39mtransform(X)\n\u001b[0;32m    868\u001b[0m \u001b[39melse\u001b[39;00m:\n\u001b[0;32m    869\u001b[0m     \u001b[39m# fit method of arity 2 (supervised transformation)\u001b[39;00m\n\u001b[1;32m--> 870\u001b[0m     \u001b[39mreturn\u001b[39;00m \u001b[39mself\u001b[39m\u001b[39m.\u001b[39mfit(X, y, \u001b[39m*\u001b[39m\u001b[39m*\u001b[39mfit_params)\u001b[39m.\u001b[39mtransform(X)\n",
      "File \u001b[1;32mc:\\Users\\shikh\\anaconda3\\lib\\site-packages\\sklearn\\feature_selection\\_univariate_selection.py:472\u001b[0m, in \u001b[0;36m_BaseFilter.fit\u001b[1;34m(self, X, y)\u001b[0m\n\u001b[0;32m    466\u001b[0m     \u001b[39mraise\u001b[39;00m \u001b[39mTypeError\u001b[39;00m(\n\u001b[0;32m    467\u001b[0m         \u001b[39m\"\u001b[39m\u001b[39mThe score function should be a callable, \u001b[39m\u001b[39m%s\u001b[39;00m\u001b[39m (\u001b[39m\u001b[39m%s\u001b[39;00m\u001b[39m) was passed.\u001b[39m\u001b[39m\"\u001b[39m\n\u001b[0;32m    468\u001b[0m         \u001b[39m%\u001b[39m (\u001b[39mself\u001b[39m\u001b[39m.\u001b[39mscore_func, \u001b[39mtype\u001b[39m(\u001b[39mself\u001b[39m\u001b[39m.\u001b[39mscore_func))\n\u001b[0;32m    469\u001b[0m     )\n\u001b[0;32m    471\u001b[0m \u001b[39mself\u001b[39m\u001b[39m.\u001b[39m_check_params(X, y)\n\u001b[1;32m--> 472\u001b[0m score_func_ret \u001b[39m=\u001b[39m \u001b[39mself\u001b[39;49m\u001b[39m.\u001b[39;49mscore_func(X, y)\n\u001b[0;32m    473\u001b[0m \u001b[39mif\u001b[39;00m \u001b[39misinstance\u001b[39m(score_func_ret, (\u001b[39mlist\u001b[39m, \u001b[39mtuple\u001b[39m)):\n\u001b[0;32m    474\u001b[0m     \u001b[39mself\u001b[39m\u001b[39m.\u001b[39mscores_, \u001b[39mself\u001b[39m\u001b[39m.\u001b[39mpvalues_ \u001b[39m=\u001b[39m score_func_ret\n",
      "File \u001b[1;32mc:\\Users\\shikh\\anaconda3\\lib\\site-packages\\sklearn\\feature_selection\\_mutual_info.py:469\u001b[0m, in \u001b[0;36mmutual_info_classif\u001b[1;34m(X, y, discrete_features, n_neighbors, copy, random_state)\u001b[0m\n\u001b[0;32m    395\u001b[0m \u001b[39m\"\"\"Estimate mutual information for a discrete target variable.\u001b[39;00m\n\u001b[0;32m    396\u001b[0m \n\u001b[0;32m    397\u001b[0m \u001b[39mMutual information (MI) [1]_ between two random variables is a non-negative\u001b[39;00m\n\u001b[1;32m   (...)\u001b[0m\n\u001b[0;32m    466\u001b[0m \u001b[39m       of a Random Vector:, Probl. Peredachi Inf., 23:2 (1987), 9-16\u001b[39;00m\n\u001b[0;32m    467\u001b[0m \u001b[39m\"\"\"\u001b[39;00m\n\u001b[0;32m    468\u001b[0m check_classification_targets(y)\n\u001b[1;32m--> 469\u001b[0m \u001b[39mreturn\u001b[39;00m _estimate_mi(X, y, discrete_features, \u001b[39mTrue\u001b[39;49;00m, n_neighbors, copy, random_state)\n",
      "File \u001b[1;32mc:\\Users\\shikh\\anaconda3\\lib\\site-packages\\sklearn\\feature_selection\\_mutual_info.py:255\u001b[0m, in \u001b[0;36m_estimate_mi\u001b[1;34m(X, y, discrete_features, discrete_target, n_neighbors, copy, random_state)\u001b[0m\n\u001b[0;32m    198\u001b[0m \u001b[39mdef\u001b[39;00m \u001b[39m_estimate_mi\u001b[39m(\n\u001b[0;32m    199\u001b[0m     X,\n\u001b[0;32m    200\u001b[0m     y,\n\u001b[1;32m   (...)\u001b[0m\n\u001b[0;32m    205\u001b[0m     random_state\u001b[39m=\u001b[39m\u001b[39mNone\u001b[39;00m,\n\u001b[0;32m    206\u001b[0m ):\n\u001b[0;32m    207\u001b[0m     \u001b[39m\"\"\"Estimate mutual information between the features and the target.\u001b[39;00m\n\u001b[0;32m    208\u001b[0m \n\u001b[0;32m    209\u001b[0m \u001b[39m    Parameters\u001b[39;00m\n\u001b[1;32m   (...)\u001b[0m\n\u001b[0;32m    253\u001b[0m \u001b[39m           Data Sets\". PLoS ONE 9(2), 2014.\u001b[39;00m\n\u001b[0;32m    254\u001b[0m \u001b[39m    \"\"\"\u001b[39;00m\n\u001b[1;32m--> 255\u001b[0m     X, y \u001b[39m=\u001b[39m check_X_y(X, y, accept_sparse\u001b[39m=\u001b[39;49m\u001b[39m\"\u001b[39;49m\u001b[39mcsc\u001b[39;49m\u001b[39m\"\u001b[39;49m, y_numeric\u001b[39m=\u001b[39;49m\u001b[39mnot\u001b[39;49;00m discrete_target)\n\u001b[0;32m    256\u001b[0m     n_samples, n_features \u001b[39m=\u001b[39m X\u001b[39m.\u001b[39mshape\n\u001b[0;32m    258\u001b[0m     \u001b[39mif\u001b[39;00m \u001b[39misinstance\u001b[39m(discrete_features, (\u001b[39mstr\u001b[39m, \u001b[39mbool\u001b[39m)):\n",
      "File \u001b[1;32mc:\\Users\\shikh\\anaconda3\\lib\\site-packages\\sklearn\\utils\\validation.py:1074\u001b[0m, in \u001b[0;36mcheck_X_y\u001b[1;34m(X, y, accept_sparse, accept_large_sparse, dtype, order, copy, force_all_finite, ensure_2d, allow_nd, multi_output, ensure_min_samples, ensure_min_features, y_numeric, estimator)\u001b[0m\n\u001b[0;32m   1069\u001b[0m         estimator_name \u001b[39m=\u001b[39m _check_estimator_name(estimator)\n\u001b[0;32m   1070\u001b[0m     \u001b[39mraise\u001b[39;00m \u001b[39mValueError\u001b[39;00m(\n\u001b[0;32m   1071\u001b[0m         \u001b[39mf\u001b[39m\u001b[39m\"\u001b[39m\u001b[39m{\u001b[39;00mestimator_name\u001b[39m}\u001b[39;00m\u001b[39m requires y to be passed, but the target y is None\u001b[39m\u001b[39m\"\u001b[39m\n\u001b[0;32m   1072\u001b[0m     )\n\u001b[1;32m-> 1074\u001b[0m X \u001b[39m=\u001b[39m check_array(\n\u001b[0;32m   1075\u001b[0m     X,\n\u001b[0;32m   1076\u001b[0m     accept_sparse\u001b[39m=\u001b[39;49maccept_sparse,\n\u001b[0;32m   1077\u001b[0m     accept_large_sparse\u001b[39m=\u001b[39;49maccept_large_sparse,\n\u001b[0;32m   1078\u001b[0m     dtype\u001b[39m=\u001b[39;49mdtype,\n\u001b[0;32m   1079\u001b[0m     order\u001b[39m=\u001b[39;49morder,\n\u001b[0;32m   1080\u001b[0m     copy\u001b[39m=\u001b[39;49mcopy,\n\u001b[0;32m   1081\u001b[0m     force_all_finite\u001b[39m=\u001b[39;49mforce_all_finite,\n\u001b[0;32m   1082\u001b[0m     ensure_2d\u001b[39m=\u001b[39;49mensure_2d,\n\u001b[0;32m   1083\u001b[0m     allow_nd\u001b[39m=\u001b[39;49mallow_nd,\n\u001b[0;32m   1084\u001b[0m     ensure_min_samples\u001b[39m=\u001b[39;49mensure_min_samples,\n\u001b[0;32m   1085\u001b[0m     ensure_min_features\u001b[39m=\u001b[39;49mensure_min_features,\n\u001b[0;32m   1086\u001b[0m     estimator\u001b[39m=\u001b[39;49mestimator,\n\u001b[0;32m   1087\u001b[0m     input_name\u001b[39m=\u001b[39;49m\u001b[39m\"\u001b[39;49m\u001b[39mX\u001b[39;49m\u001b[39m\"\u001b[39;49m,\n\u001b[0;32m   1088\u001b[0m )\n\u001b[0;32m   1090\u001b[0m y \u001b[39m=\u001b[39m _check_y(y, multi_output\u001b[39m=\u001b[39mmulti_output, y_numeric\u001b[39m=\u001b[39my_numeric, estimator\u001b[39m=\u001b[39mestimator)\n\u001b[0;32m   1092\u001b[0m check_consistent_length(X, y)\n",
      "File \u001b[1;32mc:\\Users\\shikh\\anaconda3\\lib\\site-packages\\sklearn\\utils\\validation.py:856\u001b[0m, in \u001b[0;36mcheck_array\u001b[1;34m(array, accept_sparse, accept_large_sparse, dtype, order, copy, force_all_finite, ensure_2d, allow_nd, ensure_min_samples, ensure_min_features, estimator, input_name)\u001b[0m\n\u001b[0;32m    854\u001b[0m         array \u001b[39m=\u001b[39m array\u001b[39m.\u001b[39mastype(dtype, casting\u001b[39m=\u001b[39m\u001b[39m\"\u001b[39m\u001b[39munsafe\u001b[39m\u001b[39m\"\u001b[39m, copy\u001b[39m=\u001b[39m\u001b[39mFalse\u001b[39;00m)\n\u001b[0;32m    855\u001b[0m     \u001b[39melse\u001b[39;00m:\n\u001b[1;32m--> 856\u001b[0m         array \u001b[39m=\u001b[39m np\u001b[39m.\u001b[39;49masarray(array, order\u001b[39m=\u001b[39;49morder, dtype\u001b[39m=\u001b[39;49mdtype)\n\u001b[0;32m    857\u001b[0m \u001b[39mexcept\u001b[39;00m ComplexWarning \u001b[39mas\u001b[39;00m complex_warning:\n\u001b[0;32m    858\u001b[0m     \u001b[39mraise\u001b[39;00m \u001b[39mValueError\u001b[39;00m(\n\u001b[0;32m    859\u001b[0m         \u001b[39m\"\u001b[39m\u001b[39mComplex data not supported\u001b[39m\u001b[39m\\n\u001b[39;00m\u001b[39m{}\u001b[39;00m\u001b[39m\\n\u001b[39;00m\u001b[39m\"\u001b[39m\u001b[39m.\u001b[39mformat(array)\n\u001b[0;32m    860\u001b[0m     ) \u001b[39mfrom\u001b[39;00m \u001b[39mcomplex_warning\u001b[39;00m\n",
      "\u001b[1;31mValueError\u001b[0m: could not convert string to float: 'Male'"
     ]
    }
   ],
   "source": [
    "post_mut_inf = SelectPercentile(score_func=mutual_info_classif, percentile=50).fit_transform(X,y.ravel())\n",
    "print(\"Mutual Info:\", post_mut_inf.shape)"
   ]
  },
  {
   "cell_type": "markdown",
   "metadata": {},
   "source": [
    "# Answers and Explainations\n",
    "(Expand/modify as needed)\n",
    "\n",
    "### Results\n",
    "\n",
    "### Feature Selection Activities\n",
    "\n",
    "### Hyperparameter Changes"
   ]
  }
 ],
 "metadata": {
  "kernelspec": {
   "display_name": "base",
   "language": "python",
   "name": "python3"
  },
  "language_info": {
   "codemirror_mode": {
    "name": "ipython",
    "version": 3
   },
   "file_extension": ".py",
   "mimetype": "text/x-python",
   "name": "python",
   "nbconvert_exporter": "python",
   "pygments_lexer": "ipython3",
   "version": "3.9.12"
  },
  "orig_nbformat": 4,
  "vscode": {
   "interpreter": {
    "hash": "ac84c186c3977d3f3331649749bf53276a5c5befb029be0bc359ac378ed9e33b"
   }
  }
 },
 "nbformat": 4,
 "nbformat_minor": 2
}
