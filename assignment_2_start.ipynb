{
 "cells": [
  {
   "cell_type": "code",
   "execution_count": 146,
   "metadata": {},
   "outputs": [],
   "source": [
    "import numpy as np\n",
    "import matplotlib.pyplot as plt\n",
    "import pandas as pd\n",
    "from sklearn.linear_model import LinearRegression\n",
    "from sklearn.preprocessing import PolynomialFeatures\n",
    "from sklearn.linear_model import SGDRegressor\n",
    "import seaborn as sns\n",
    "from sklearn.pipeline import Pipeline\n",
    "from sklearn.metrics import mean_squared_error\n",
    "from sklearn.model_selection import train_test_split\n",
    "from sklearn.model_selection import cross_val_score\n",
    "from sklearn.linear_model import Lasso\n",
    "from sklearn.linear_model import Ridge\n",
    "from sklearn.preprocessing import MinMaxScaler\n",
    "from sklearn.model_selection import GridSearchCV"
   ]
  },
  {
   "cell_type": "markdown",
   "metadata": {},
   "source": [
    "# Assignment 2 - Regression\n",
    "### Predict the TOTAL COMPENSATION for this year. \n",
    "\n",
    "The data file provided is a salary survey for tech workers in Europe. We want to predict the total amount of compensation they bring in each year, based off of the details of their work. \n",
    "\n",
    "Some notes that will be important:\n",
    "<ul>\n",
    "    <li>The total compensation will need to be constructed, there is a column for salary, \"Yearly brutto salary (without bonus and stocks) in EUR\", as well as a column for bonus compensation, \"Yearly bonus + stocks in EUR\". \n",
    "    <li>Some categorical variables will need some work, and there isn't generally an exact answer. The main concern is things with categories that have a bunch of values with a very small count. For example, if there is only 1 person in City X, then that value likely needs to be addressed. We don't want it encoded into a new column of one 1 and thousands of 0s. \n",
    "    <li>There is an article exploring some of the data here: https://www.asdcode.de/2021/01/it-salary-survey-december-2020.html\n",
    "    <li>Imputation and a bit of data manipulation will be required. \n",
    "    <li>Use any regression method you'd like. Some ones are closely related to what we've done, you may want to look at them, e.g. ExtraTreesRegressor. \n",
    "    <li>Initial accurracy, and potentially final accuracy, may not be great. When I made a plain model will little optimization the errors were large and the R2 was low. There is lots of room for optimization. \n",
    "    <li>Research challenge - try some work on the target, look into TransformedTargetRegressor and see if that helps. Recall in stats when we had skewed distributions... Maybe it helps, maybe it doesn't. \n",
    "    <li>EDA and data prep are up to you - you'll probably need to do a little exploring to figure out what cleanup is needed. When I did it, I did things kind of iteratively when I did it. For example, look at the value counts, figure out how to treat the different categories, clean something up, look at the results, potentially repeat if needed. After you figure out what needs to be done, you may be able to take some of those steps and incorporate them into a pipeline to be cleaner....\n",
    "    <li><b>CRITICAL - Please make sure your code runs with RUN ALL. It should load the data that you're given, do all the processing, and spit out results. Comment out or remove anything that you've cleaned up and don't need - e.g. if you scaled a value manually, then moved that into a pipeline, don't leave the original scaling code active when the file is run.</b>\n",
    "</ul>\n",
    "\n",
    "### Details and Deliverables\n",
    "\n",
    "You'll need to build code to produce the predictions. In particular, there's a few things that'll be marked:\n",
    "<ul>\n",
    "    <li>Please add a markdown cell at the bottom, and put in a few notes addressing the following:\n",
    "    <ul>\n",
    "        <li> Accuracy of your models with/without feature selection. Include both train/test for each. Please use R2 and RMSE. \n",
    "        <li> Feature Selection - Please identify what you did for feature selection. No need for a long explaination, something along the lines of \"I did X, and the result was that 4 features were removed\". Try at least 2 things. \n",
    "        <li> Hyperparameter Changes / Grid Search Improvements. What did you try, and why. Similar explaination to above, short. \n",
    "        <li> Overall this section should be roughly as long as this intro block - just outline what the results were, what you did to improve, and the results after. \n",
    "        <li> If you could use titles/bullet points I'd really appreciate it. \n",
    "    </ul>\n",
    "    <li>Grade Breakdown:\n",
    "    <ul>\n",
    "        <li> Code is readable, there are comments: 20%\n",
    "        <li> Explaination as defined above: 60% (20% each point)\n",
    "        <li> Accuracy: 20% As compared to everyone else. This will be generously graded, I won't be surprised if overall accuracy is low for most people. \n",
    "    </ul>\n",
    "</ul>"
   ]
  },
  {
   "cell_type": "code",
   "execution_count": 147,
   "metadata": {},
   "outputs": [
    {
     "data": {
      "text/html": [
       "<div>\n",
       "<style scoped>\n",
       "    .dataframe tbody tr th:only-of-type {\n",
       "        vertical-align: middle;\n",
       "    }\n",
       "\n",
       "    .dataframe tbody tr th {\n",
       "        vertical-align: top;\n",
       "    }\n",
       "\n",
       "    .dataframe thead th {\n",
       "        text-align: right;\n",
       "    }\n",
       "</style>\n",
       "<table border=\"1\" class=\"dataframe\">\n",
       "  <thead>\n",
       "    <tr style=\"text-align: right;\">\n",
       "      <th></th>\n",
       "      <th>Timestamp</th>\n",
       "      <th>Age</th>\n",
       "      <th>Gender</th>\n",
       "      <th>City</th>\n",
       "      <th>Position</th>\n",
       "      <th>Total years of experience</th>\n",
       "      <th>Years of experience in Germany</th>\n",
       "      <th>Seniority level</th>\n",
       "      <th>Your main technology / programming language</th>\n",
       "      <th>Other technologies/programming languages you use often</th>\n",
       "      <th>Yearly brutto salary (without bonus and stocks) in EUR</th>\n",
       "      <th>Yearly bonus + stocks in EUR</th>\n",
       "      <th>Number of vacation days</th>\n",
       "      <th>Employment status</th>\n",
       "      <th>Сontract duration</th>\n",
       "      <th>Main language at work</th>\n",
       "      <th>Company size</th>\n",
       "      <th>Company type</th>\n",
       "    </tr>\n",
       "  </thead>\n",
       "  <tbody>\n",
       "    <tr>\n",
       "      <th>0</th>\n",
       "      <td>24/11/2020 11:14:15</td>\n",
       "      <td>26.0</td>\n",
       "      <td>Male</td>\n",
       "      <td>Munich</td>\n",
       "      <td>Software Engineer</td>\n",
       "      <td>5</td>\n",
       "      <td>3</td>\n",
       "      <td>Senior</td>\n",
       "      <td>TypeScript</td>\n",
       "      <td>Kotlin, Javascript / Typescript</td>\n",
       "      <td>80000.0</td>\n",
       "      <td>5000</td>\n",
       "      <td>30</td>\n",
       "      <td>Full-time employee</td>\n",
       "      <td>Unlimited contract</td>\n",
       "      <td>English</td>\n",
       "      <td>51-100</td>\n",
       "      <td>Product</td>\n",
       "    </tr>\n",
       "    <tr>\n",
       "      <th>1</th>\n",
       "      <td>24/11/2020 11:14:16</td>\n",
       "      <td>26.0</td>\n",
       "      <td>Male</td>\n",
       "      <td>Berlin</td>\n",
       "      <td>Backend Developer</td>\n",
       "      <td>7</td>\n",
       "      <td>4</td>\n",
       "      <td>Senior</td>\n",
       "      <td>Ruby</td>\n",
       "      <td>NaN</td>\n",
       "      <td>80000.0</td>\n",
       "      <td>NaN</td>\n",
       "      <td>28</td>\n",
       "      <td>Full-time employee</td>\n",
       "      <td>Unlimited contract</td>\n",
       "      <td>English</td>\n",
       "      <td>101-1000</td>\n",
       "      <td>Product</td>\n",
       "    </tr>\n",
       "  </tbody>\n",
       "</table>\n",
       "</div>"
      ],
      "text/plain": [
       "             Timestamp   Age Gender    City          Position   \\\n",
       "0  24/11/2020 11:14:15  26.0   Male  Munich  Software Engineer   \n",
       "1  24/11/2020 11:14:16  26.0   Male  Berlin  Backend Developer   \n",
       "\n",
       "  Total years of experience Years of experience in Germany Seniority level  \\\n",
       "0                         5                              3          Senior   \n",
       "1                         7                              4          Senior   \n",
       "\n",
       "  Your main technology / programming language  \\\n",
       "0                                  TypeScript   \n",
       "1                                        Ruby   \n",
       "\n",
       "  Other technologies/programming languages you use often  \\\n",
       "0                    Kotlin, Javascript / Typescript       \n",
       "1                                                NaN       \n",
       "\n",
       "   Yearly brutto salary (without bonus and stocks) in EUR  \\\n",
       "0                                            80000.0        \n",
       "1                                            80000.0        \n",
       "\n",
       "  Yearly bonus + stocks in EUR Number of vacation days   Employment status  \\\n",
       "0                         5000                      30  Full-time employee   \n",
       "1                          NaN                      28  Full-time employee   \n",
       "\n",
       "    Сontract duration Main language at work Company size Company type  \n",
       "0  Unlimited contract               English       51-100      Product  \n",
       "1  Unlimited contract               English     101-1000      Product  "
      ]
     },
     "execution_count": 147,
     "metadata": {},
     "output_type": "execute_result"
    }
   ],
   "source": [
    "#Load Data\n",
    "df = pd.read_csv(\"data/Euro_Salary.csv\")\n",
    "#df.describe(include=\"all\").T\n",
    "df.head(2)"
   ]
  },
  {
   "cell_type": "code",
   "execution_count": 148,
   "metadata": {},
   "outputs": [
    {
     "data": {
      "text/plain": [
       "Javascript / Typescript                                                                   44\n",
       "Python                                                                                    37\n",
       "SQL                                                                                       31\n",
       "AWS, Docker                                                                               16\n",
       "Kotlin                                                                                    15\n",
       "                                                                                          ..\n",
       "Python, Ruby, Java / Scala, Go, Rust, AWS, Kubernetes, Docker, Terraform, helm, packer     1\n",
       "Kotlin, SQL, AWS, Kubernetes, Docker                                                       1\n",
       "Python, R, Go                                                                              1\n",
       "C/C++, PHP, SQL                                                                            1\n",
       "Python, AWS, Kubernetes, Docker, terraform, ansible                                        1\n",
       "Name: Other technologies/programming languages you use often, Length: 562, dtype: int64"
      ]
     },
     "execution_count": 148,
     "metadata": {},
     "output_type": "execute_result"
    }
   ],
   "source": [
    "\n",
    "df[\"Other technologies/programming languages you use often\"].value_counts()"
   ]
  },
  {
   "attachments": {},
   "cell_type": "markdown",
   "metadata": {},
   "source": [
    "### Exploratory Data Analysis (EDA) \n",
    "EDA is going to help us inanalyzing and summarizing our data set's main characteristics. Also, to identify underlying structure of our data, to spot anomalies and outliers, to test underlying assumptions, and to form hypotheses that can be further tested."
   ]
  },
  {
   "cell_type": "code",
   "execution_count": 149,
   "metadata": {},
   "outputs": [
    {
     "name": "stdout",
     "output_type": "stream",
     "text": [
      "<class 'pandas.core.frame.DataFrame'>\n",
      "RangeIndex: 1253 entries, 0 to 1252\n",
      "Data columns (total 18 columns):\n",
      " #   Column                                                  Non-Null Count  Dtype  \n",
      "---  ------                                                  --------------  -----  \n",
      " 0   Timestamp                                               1253 non-null   object \n",
      " 1   Age                                                     1226 non-null   float64\n",
      " 2   Gender                                                  1243 non-null   object \n",
      " 3   City                                                    1253 non-null   object \n",
      " 4   Position                                                1247 non-null   object \n",
      " 5   Total years of experience                               1237 non-null   object \n",
      " 6   Years of experience in Germany                          1221 non-null   object \n",
      " 7   Seniority level                                         1241 non-null   object \n",
      " 8   Your main technology / programming language             1126 non-null   object \n",
      " 9   Other technologies/programming languages you use often  1096 non-null   object \n",
      " 10  Yearly brutto salary (without bonus and stocks) in EUR  1253 non-null   float64\n",
      " 11  Yearly bonus + stocks in EUR                            829 non-null    object \n",
      " 12  Number of vacation days                                 1185 non-null   object \n",
      " 13  Employment status                                       1236 non-null   object \n",
      " 14  Сontract duration                                       1224 non-null   object \n",
      " 15  Main language at work                                   1237 non-null   object \n",
      " 16  Company size                                            1235 non-null   object \n",
      " 17  Company type                                            1228 non-null   object \n",
      "dtypes: float64(2), object(16)\n",
      "memory usage: 176.3+ KB\n"
     ]
    }
   ],
   "source": [
    "df.info()"
   ]
  },
  {
   "cell_type": "code",
   "execution_count": 150,
   "metadata": {},
   "outputs": [],
   "source": [
    "df['Bonus']=pd.to_numeric(df['Yearly bonus + stocks in EUR'],downcast='float',errors='coerce')\n",
    "df['Number of vacation days']=pd.to_numeric(df['Number of vacation days'],downcast='float',errors='coerce')"
   ]
  },
  {
   "cell_type": "code",
   "execution_count": 151,
   "metadata": {},
   "outputs": [
    {
     "name": "stderr",
     "output_type": "stream",
     "text": [
      "C:\\Users\\shikh\\AppData\\Local\\Temp\\ipykernel_34408\\527883699.py:4: FutureWarning: this method is deprecated in favour of `Styler.format(precision=..)`\n",
      "  corr.style.background_gradient().set_precision(2)\n"
     ]
    },
    {
     "data": {
      "text/html": [
       "<style type=\"text/css\">\n",
       "#T_593d2_row0_col0, #T_593d2_row1_col1, #T_593d2_row1_col3, #T_593d2_row2_col2, #T_593d2_row3_col1, #T_593d2_row3_col3 {\n",
       "  background-color: #023858;\n",
       "  color: #f1f1f1;\n",
       "}\n",
       "#T_593d2_row0_col1, #T_593d2_row0_col2, #T_593d2_row0_col3, #T_593d2_row3_col0 {\n",
       "  background-color: #fff7fb;\n",
       "  color: #000000;\n",
       "}\n",
       "#T_593d2_row1_col0 {\n",
       "  background-color: #fef6fb;\n",
       "  color: #000000;\n",
       "}\n",
       "#T_593d2_row1_col2 {\n",
       "  background-color: #e5e1ef;\n",
       "  color: #000000;\n",
       "}\n",
       "#T_593d2_row2_col0 {\n",
       "  background-color: #f6eff7;\n",
       "  color: #000000;\n",
       "}\n",
       "#T_593d2_row2_col1 {\n",
       "  background-color: #dad9ea;\n",
       "  color: #000000;\n",
       "}\n",
       "#T_593d2_row2_col3 {\n",
       "  background-color: #d9d8ea;\n",
       "  color: #000000;\n",
       "}\n",
       "#T_593d2_row3_col2 {\n",
       "  background-color: #e4e1ef;\n",
       "  color: #000000;\n",
       "}\n",
       "</style>\n",
       "<table id=\"T_593d2\">\n",
       "  <thead>\n",
       "    <tr>\n",
       "      <th class=\"blank level0\" >&nbsp;</th>\n",
       "      <th id=\"T_593d2_level0_col0\" class=\"col_heading level0 col0\" >Age</th>\n",
       "      <th id=\"T_593d2_level0_col1\" class=\"col_heading level0 col1\" >Yearly brutto salary (without bonus and stocks) in EUR</th>\n",
       "      <th id=\"T_593d2_level0_col2\" class=\"col_heading level0 col2\" >Number of vacation days</th>\n",
       "      <th id=\"T_593d2_level0_col3\" class=\"col_heading level0 col3\" >Bonus</th>\n",
       "    </tr>\n",
       "  </thead>\n",
       "  <tbody>\n",
       "    <tr>\n",
       "      <th id=\"T_593d2_level0_row0\" class=\"row_heading level0 row0\" >Age</th>\n",
       "      <td id=\"T_593d2_row0_col0\" class=\"data row0 col0\" >1.00</td>\n",
       "      <td id=\"T_593d2_row0_col1\" class=\"data row0 col1\" >-0.02</td>\n",
       "      <td id=\"T_593d2_row0_col2\" class=\"data row0 col2\" >0.04</td>\n",
       "      <td id=\"T_593d2_row0_col3\" class=\"data row0 col3\" >-0.02</td>\n",
       "    </tr>\n",
       "    <tr>\n",
       "      <th id=\"T_593d2_level0_row1\" class=\"row_heading level0 row1\" >Yearly brutto salary (without bonus and stocks) in EUR</th>\n",
       "      <td id=\"T_593d2_row1_col0\" class=\"data row1 col0\" >-0.02</td>\n",
       "      <td id=\"T_593d2_row1_col1\" class=\"data row1 col1\" >1.00</td>\n",
       "      <td id=\"T_593d2_row1_col2\" class=\"data row1 col2\" >0.19</td>\n",
       "      <td id=\"T_593d2_row1_col3\" class=\"data row1 col3\" >1.00</td>\n",
       "    </tr>\n",
       "    <tr>\n",
       "      <th id=\"T_593d2_level0_row2\" class=\"row_heading level0 row2\" >Number of vacation days</th>\n",
       "      <td id=\"T_593d2_row2_col0\" class=\"data row2 col0\" >0.04</td>\n",
       "      <td id=\"T_593d2_row2_col1\" class=\"data row2 col1\" >0.19</td>\n",
       "      <td id=\"T_593d2_row2_col2\" class=\"data row2 col2\" >1.00</td>\n",
       "      <td id=\"T_593d2_row2_col3\" class=\"data row2 col3\" >0.19</td>\n",
       "    </tr>\n",
       "    <tr>\n",
       "      <th id=\"T_593d2_level0_row3\" class=\"row_heading level0 row3\" >Bonus</th>\n",
       "      <td id=\"T_593d2_row3_col0\" class=\"data row3 col0\" >-0.02</td>\n",
       "      <td id=\"T_593d2_row3_col1\" class=\"data row3 col1\" >1.00</td>\n",
       "      <td id=\"T_593d2_row3_col2\" class=\"data row3 col2\" >0.19</td>\n",
       "      <td id=\"T_593d2_row3_col3\" class=\"data row3 col3\" >1.00</td>\n",
       "    </tr>\n",
       "  </tbody>\n",
       "</table>\n"
      ],
      "text/plain": [
       "<pandas.io.formats.style.Styler at 0x1da9248baf0>"
      ]
     },
     "execution_count": 151,
     "metadata": {},
     "output_type": "execute_result"
    }
   ],
   "source": [
    "## Correlation Matrix\n",
    "corr = df.corr()\n",
    "corr.style.background_gradient()\n",
    "corr.style.background_gradient().set_precision(2)"
   ]
  },
  {
   "cell_type": "code",
   "execution_count": 152,
   "metadata": {},
   "outputs": [
    {
     "data": {
      "text/html": [
       "<div>\n",
       "<style scoped>\n",
       "    .dataframe tbody tr th:only-of-type {\n",
       "        vertical-align: middle;\n",
       "    }\n",
       "\n",
       "    .dataframe tbody tr th {\n",
       "        vertical-align: top;\n",
       "    }\n",
       "\n",
       "    .dataframe thead th {\n",
       "        text-align: right;\n",
       "    }\n",
       "</style>\n",
       "<table border=\"1\" class=\"dataframe\">\n",
       "  <thead>\n",
       "    <tr style=\"text-align: right;\">\n",
       "      <th></th>\n",
       "      <th>Age</th>\n",
       "      <th>Yearly brutto salary (without bonus and stocks) in EUR</th>\n",
       "      <th>Number of vacation days</th>\n",
       "      <th>Bonus</th>\n",
       "    </tr>\n",
       "  </thead>\n",
       "  <tbody>\n",
       "    <tr>\n",
       "      <th>count</th>\n",
       "      <td>1226.000000</td>\n",
       "      <td>1.253000e+03</td>\n",
       "      <td>1172.000000</td>\n",
       "      <td>8.230000e+02</td>\n",
       "    </tr>\n",
       "    <tr>\n",
       "      <th>mean</th>\n",
       "      <td>32.509788</td>\n",
       "      <td>8.027904e+07</td>\n",
       "      <td>28.348549</td>\n",
       "      <td>6.096878e+06</td>\n",
       "    </tr>\n",
       "    <tr>\n",
       "      <th>std</th>\n",
       "      <td>5.663804</td>\n",
       "      <td>2.825061e+09</td>\n",
       "      <td>10.760013</td>\n",
       "      <td>1.742885e+08</td>\n",
       "    </tr>\n",
       "    <tr>\n",
       "      <th>min</th>\n",
       "      <td>20.000000</td>\n",
       "      <td>1.000100e+04</td>\n",
       "      <td>0.000000</td>\n",
       "      <td>0.000000e+00</td>\n",
       "    </tr>\n",
       "    <tr>\n",
       "      <th>25%</th>\n",
       "      <td>29.000000</td>\n",
       "      <td>5.880000e+04</td>\n",
       "      <td>27.000000</td>\n",
       "      <td>0.000000e+00</td>\n",
       "    </tr>\n",
       "    <tr>\n",
       "      <th>50%</th>\n",
       "      <td>32.000000</td>\n",
       "      <td>7.000000e+04</td>\n",
       "      <td>28.000000</td>\n",
       "      <td>5.000000e+03</td>\n",
       "    </tr>\n",
       "    <tr>\n",
       "      <th>75%</th>\n",
       "      <td>35.000000</td>\n",
       "      <td>8.000000e+04</td>\n",
       "      <td>30.000000</td>\n",
       "      <td>2.000000e+04</td>\n",
       "    </tr>\n",
       "    <tr>\n",
       "      <th>max</th>\n",
       "      <td>69.000000</td>\n",
       "      <td>1.000000e+11</td>\n",
       "      <td>365.000000</td>\n",
       "      <td>5.000000e+09</td>\n",
       "    </tr>\n",
       "  </tbody>\n",
       "</table>\n",
       "</div>"
      ],
      "text/plain": [
       "               Age  Yearly brutto salary (without bonus and stocks) in EUR  \\\n",
       "count  1226.000000                                       1.253000e+03        \n",
       "mean     32.509788                                       8.027904e+07        \n",
       "std       5.663804                                       2.825061e+09        \n",
       "min      20.000000                                       1.000100e+04        \n",
       "25%      29.000000                                       5.880000e+04        \n",
       "50%      32.000000                                       7.000000e+04        \n",
       "75%      35.000000                                       8.000000e+04        \n",
       "max      69.000000                                       1.000000e+11        \n",
       "\n",
       "       Number of vacation days         Bonus  \n",
       "count              1172.000000  8.230000e+02  \n",
       "mean                 28.348549  6.096878e+06  \n",
       "std                  10.760013  1.742885e+08  \n",
       "min                   0.000000  0.000000e+00  \n",
       "25%                  27.000000  0.000000e+00  \n",
       "50%                  28.000000  5.000000e+03  \n",
       "75%                  30.000000  2.000000e+04  \n",
       "max                 365.000000  5.000000e+09  "
      ]
     },
     "execution_count": 152,
     "metadata": {},
     "output_type": "execute_result"
    }
   ],
   "source": [
    "df.describe()"
   ]
  },
  {
   "attachments": {},
   "cell_type": "markdown",
   "metadata": {},
   "source": [
    "### Identifying numerical and categorical variables \n",
    "It is an important step in the data preprocessing and analysis phase because:\n",
    "<br>\n",
    "<br>Data Preparation: Numerical variables may require scaling, while categorical variables need to be one-hot encoded before they can be used as inputs to the model.\n",
    "\n",
    "<br>Exploratory Data Analysis: Identifying numerical and categorical variables can help in understanding the structure and distribution of the data, and identify any potential outliers or anomalies.\n",
    "\n",
    "<br>Feature Selection: Numerical and categorical variables may have different feature importances in or model, and this information can be used to select relevant features.\n",
    "\n",
    "<br >Model Selection: For correct model selection.For example, decision trees and random forests are commonly used for categorical data, while linear regression is used for numerical data."
   ]
  },
  {
   "cell_type": "code",
   "execution_count": 154,
   "metadata": {},
   "outputs": [],
   "source": [
    "def find_categorical_numerical(df):\n",
    "    categorical = []\n",
    "    numerical = []\n",
    "    for col in df.columns:\n",
    "        if df[col].dtype == 'object':\n",
    "            categorical.append(col)\n",
    "        else:\n",
    "            numerical.append(col)\n",
    "    return categorical, numerical"
   ]
  },
  {
   "cell_type": "code",
   "execution_count": 155,
   "metadata": {},
   "outputs": [],
   "source": [
    "categorical, numerical = find_categorical_numerical(df)"
   ]
  },
  {
   "cell_type": "code",
   "execution_count": 156,
   "metadata": {},
   "outputs": [
    {
     "name": "stdout",
     "output_type": "stream",
     "text": [
      "categorical Data:\n"
     ]
    },
    {
     "data": {
      "text/plain": [
       "['Timestamp',\n",
       " 'Gender',\n",
       " 'City',\n",
       " 'Position ',\n",
       " 'Total years of experience',\n",
       " 'Years of experience in Germany',\n",
       " 'Seniority level',\n",
       " 'Your main technology / programming language',\n",
       " 'Other technologies/programming languages you use often',\n",
       " 'Yearly bonus + stocks in EUR',\n",
       " 'Employment status',\n",
       " 'Сontract duration',\n",
       " 'Main language at work',\n",
       " 'Company size',\n",
       " 'Company type']"
      ]
     },
     "execution_count": 156,
     "metadata": {},
     "output_type": "execute_result"
    }
   ],
   "source": [
    "# Categorical data is \n",
    "\n",
    "\n",
    "print(\"categorical Data:\")\n",
    "categorical"
   ]
  },
  {
   "cell_type": "code",
   "execution_count": 157,
   "metadata": {},
   "outputs": [
    {
     "name": "stdout",
     "output_type": "stream",
     "text": [
      "Numerical data:\n"
     ]
    },
    {
     "data": {
      "text/plain": [
       "['Age',\n",
       " 'Yearly brutto salary (without bonus and stocks) in EUR',\n",
       " 'Number of vacation days',\n",
       " 'Bonus']"
      ]
     },
     "execution_count": 157,
     "metadata": {},
     "output_type": "execute_result"
    }
   ],
   "source": [
    "# Numerical data is :\n",
    "\n",
    "\n",
    "print(\"Numerical data:\")\n",
    "numerical"
   ]
  },
  {
   "cell_type": "code",
   "execution_count": 158,
   "metadata": {},
   "outputs": [
    {
     "name": "stdout",
     "output_type": "stream",
     "text": [
      "Age False\n",
      "Yearly brutto salary (without bonus and stocks) in EUR True\n",
      "Number of vacation days True\n",
      "Bonus True\n"
     ]
    }
   ],
   "source": [
    "#Defining outliers\n",
    "def outlier_thresholds(dataframe, col_name, q1=0.01, q3=0.99):\n",
    "    quartile1 = dataframe[col_name].quantile(q1)\n",
    "    quartile3 = dataframe[col_name].quantile(q3)\n",
    "    interquantile_range = quartile3 - quartile1\n",
    "    up_limit = quartile3 + 1.5 * interquantile_range\n",
    "    low_limit = quartile1 - 1.5 * interquantile_range\n",
    "    return low_limit, up_limit\n",
    "\n",
    "def check_outlier(dataframe, col_name):\n",
    "    low_limit, up_limit = outlier_thresholds(dataframe, col_name)\n",
    "    if dataframe[(dataframe[col_name] > up_limit) | (dataframe[col_name] < low_limit)].any(axis=None):\n",
    "        return True\n",
    "    else:\n",
    "        return False\n",
    "\n",
    "for col in numerical:\n",
    "    print(col, check_outlier(df, col))\n",
    "#person_age, person_income and person_emp_lenght have some outlier observations"
   ]
  },
  {
   "cell_type": "code",
   "execution_count": 159,
   "metadata": {},
   "outputs": [
    {
     "data": {
      "text/plain": [
       "(Age                                                          -16.000000\n",
       " Yearly brutto salary (without bonus and stocks) in EUR   -200200.000000\n",
       " Number of vacation days                                      -22.435001\n",
       " Bonus                                                    -248400.000000\n",
       " dtype: float64,\n",
       " Age                                                           88.000000\n",
       " Yearly brutto salary (without bonus and stocks) in EUR    385336.000000\n",
       " Number of vacation days                                       74.725002\n",
       " Bonus                                                     414000.000000\n",
       " dtype: float64)"
      ]
     },
     "execution_count": 159,
     "metadata": {},
     "output_type": "execute_result"
    }
   ],
   "source": [
    "outlier_thresholds(df, numerical)"
   ]
  },
  {
   "cell_type": "code",
   "execution_count": null,
   "metadata": {},
   "outputs": [],
   "source": []
  },
  {
   "attachments": {},
   "cell_type": "markdown",
   "metadata": {},
   "source": [
    "### Finding nan's in our dataset:\n",
    "The presence of NaN values can impact the accuracy and reliability of the results of any analysis or modeling performed on the dataset. It is therefore important to handle missing values appropriately, either by imputing the missing values or removing the observations with missing values."
   ]
  },
  {
   "attachments": {},
   "cell_type": "markdown",
   "metadata": {},
   "source": [
    "df.isna().sum()\n",
    "#Replacing Outliers\n",
    "\n",
    "def replace_with_thresholds(dataframe, variable):\n",
    "    low_limit, up_limit = outlier_thresholds(dataframe, variable)\n",
    "    dataframe.loc[(dataframe[variable] < low_limit), variable] = low_limit\n",
    "    dataframe.loc[(dataframe[variable] > (up_limit-150000)), variable] = up_limit\n",
    "\n",
    "for col in numerical:\n",
    "    replace_with_thresholds(df, col)\n",
    "\n",
    "#Check\n",
    "for col in numerical:\n",
    "    print(col, check_outlier(df, col))"
   ]
  },
  {
   "cell_type": "code",
   "execution_count": 160,
   "metadata": {},
   "outputs": [
    {
     "name": "stdout",
     "output_type": "stream",
     "text": [
      "Age False\n",
      "Yearly brutto salary (without bonus and stocks) in EUR False\n",
      "Number of vacation days False\n",
      "Bonus False\n"
     ]
    }
   ],
   "source": [
    "df.isna().sum()\n",
    "#Replacing Outliers\n",
    "\n",
    "def replace_with_thresholds(dataframe, variable):\n",
    "    low_limit, up_limit = outlier_thresholds(dataframe, variable)\n",
    "    dataframe.loc[(dataframe[variable] < low_limit), variable] = low_limit\n",
    "    dataframe.loc[(dataframe[variable] > (up_limit)), variable] = up_limit\n",
    "\n",
    "for col in numerical:\n",
    "    replace_with_thresholds(df, col)\n",
    "\n",
    "#Check\n",
    "for col in numerical:\n",
    "    print(col, check_outlier(df, col))"
   ]
  },
  {
   "cell_type": "code",
   "execution_count": 161,
   "metadata": {},
   "outputs": [
    {
     "data": {
      "text/html": [
       "<div>\n",
       "<style scoped>\n",
       "    .dataframe tbody tr th:only-of-type {\n",
       "        vertical-align: middle;\n",
       "    }\n",
       "\n",
       "    .dataframe tbody tr th {\n",
       "        vertical-align: top;\n",
       "    }\n",
       "\n",
       "    .dataframe thead th {\n",
       "        text-align: right;\n",
       "    }\n",
       "</style>\n",
       "<table border=\"1\" class=\"dataframe\">\n",
       "  <thead>\n",
       "    <tr style=\"text-align: right;\">\n",
       "      <th></th>\n",
       "      <th>Age</th>\n",
       "      <th>Yearly brutto salary (without bonus and stocks) in EUR</th>\n",
       "      <th>Number of vacation days</th>\n",
       "      <th>Bonus</th>\n",
       "    </tr>\n",
       "  </thead>\n",
       "  <tbody>\n",
       "    <tr>\n",
       "      <th>count</th>\n",
       "      <td>1226.000000</td>\n",
       "      <td>1253.000000</td>\n",
       "      <td>1172.000000</td>\n",
       "      <td>823.000000</td>\n",
       "    </tr>\n",
       "    <tr>\n",
       "      <th>mean</th>\n",
       "      <td>32.509788</td>\n",
       "      <td>71784.804573</td>\n",
       "      <td>28.080162</td>\n",
       "      <td>21101.339844</td>\n",
       "    </tr>\n",
       "    <tr>\n",
       "      <th>std</th>\n",
       "      <td>5.663804</td>\n",
       "      <td>28760.940148</td>\n",
       "      <td>4.281522</td>\n",
       "      <td>40653.875000</td>\n",
       "    </tr>\n",
       "    <tr>\n",
       "      <th>min</th>\n",
       "      <td>20.000000</td>\n",
       "      <td>10001.000000</td>\n",
       "      <td>0.000000</td>\n",
       "      <td>0.000000</td>\n",
       "    </tr>\n",
       "    <tr>\n",
       "      <th>25%</th>\n",
       "      <td>29.000000</td>\n",
       "      <td>58800.000000</td>\n",
       "      <td>27.000000</td>\n",
       "      <td>0.000000</td>\n",
       "    </tr>\n",
       "    <tr>\n",
       "      <th>50%</th>\n",
       "      <td>32.000000</td>\n",
       "      <td>70000.000000</td>\n",
       "      <td>28.000000</td>\n",
       "      <td>5000.000000</td>\n",
       "    </tr>\n",
       "    <tr>\n",
       "      <th>75%</th>\n",
       "      <td>35.000000</td>\n",
       "      <td>80000.000000</td>\n",
       "      <td>30.000000</td>\n",
       "      <td>20000.000000</td>\n",
       "    </tr>\n",
       "    <tr>\n",
       "      <th>max</th>\n",
       "      <td>69.000000</td>\n",
       "      <td>385336.000000</td>\n",
       "      <td>74.725006</td>\n",
       "      <td>414000.000000</td>\n",
       "    </tr>\n",
       "  </tbody>\n",
       "</table>\n",
       "</div>"
      ],
      "text/plain": [
       "               Age  Yearly brutto salary (without bonus and stocks) in EUR  \\\n",
       "count  1226.000000                                        1253.000000        \n",
       "mean     32.509788                                       71784.804573        \n",
       "std       5.663804                                       28760.940148        \n",
       "min      20.000000                                       10001.000000        \n",
       "25%      29.000000                                       58800.000000        \n",
       "50%      32.000000                                       70000.000000        \n",
       "75%      35.000000                                       80000.000000        \n",
       "max      69.000000                                      385336.000000        \n",
       "\n",
       "       Number of vacation days          Bonus  \n",
       "count              1172.000000     823.000000  \n",
       "mean                 28.080162   21101.339844  \n",
       "std                   4.281522   40653.875000  \n",
       "min                   0.000000       0.000000  \n",
       "25%                  27.000000       0.000000  \n",
       "50%                  28.000000    5000.000000  \n",
       "75%                  30.000000   20000.000000  \n",
       "max                  74.725006  414000.000000  "
      ]
     },
     "execution_count": 161,
     "metadata": {},
     "output_type": "execute_result"
    }
   ],
   "source": [
    "df.describe()"
   ]
  },
  {
   "attachments": {},
   "cell_type": "markdown",
   "metadata": {},
   "source": [
    "### Imputation\n",
    "Imputing  is the process of replacing missing (categorical and numerical) or invalid values in a dataset with estimated values."
   ]
  },
  {
   "cell_type": "code",
   "execution_count": 162,
   "metadata": {},
   "outputs": [],
   "source": [
    "#Imputing for categorical variables, filling the missing values with the mode of the data.\n",
    "df['Gender']=df['Gender'].fillna(df['Gender'].mode()[0])\n",
    "df['Position ']=df['Position '].fillna(df['Position '].mode()[0])\n",
    "df['Total years of experience']=df['Total years of experience'].fillna(df['Total years of experience'].mode()[0])\n",
    "df['Seniority level']=df['Seniority level'].fillna(df['Seniority level'].mode()[0])\n",
    "df['Your main technology / programming language']=df['Your main technology / programming language'].fillna(df['Your main technology / programming language'].mode()[0])\n",
    "df['Other technologies/programming languages you use often']=df['Other technologies/programming languages you use often'].fillna(df['Other technologies/programming languages you use often'].mode()[0])\n",
    "df['Employment status']=df['Employment status'].fillna(df['Employment status'].mode()[0])\n",
    "df['Сontract duration']=df['Сontract duration'].fillna(df['Сontract duration'].mode()[0])\n",
    "df['Main language at work']=df['Main language at work'].fillna(df['Main language at work'].mode()[0])\n",
    "df['Company size']=df['Company size'].fillna(df['Company size'].mode()[0])\n",
    "df['Company type']=df['Company type'].fillna(df['Company type'].mode()[0])"
   ]
  },
  {
   "cell_type": "code",
   "execution_count": 163,
   "metadata": {},
   "outputs": [],
   "source": [
    "#Imputing numerical variables, filling the missing values with Mean of the data.\n",
    "df['Age']=df['Age'].fillna(df['Age'].mean())\n",
    "df['Yearly brutto salary (without bonus and stocks) in EUR']=df['Yearly brutto salary (without bonus and stocks) in EUR'].fillna(df['Yearly brutto salary (without bonus and stocks) in EUR'].mean())\n",
    "df['Bonus']=df['Bonus'].fillna(df['Bonus'].mean())\n",
    "df['Number of vacation days']=df['Number of vacation days'].fillna(df['Number of vacation days'].mean())\n"
   ]
  },
  {
   "cell_type": "code",
   "execution_count": 164,
   "metadata": {},
   "outputs": [],
   "source": [
    "# Drop the timestamp as it is irrelevant \n",
    "df=df.drop(['Timestamp'],axis=1)"
   ]
  },
  {
   "cell_type": "code",
   "execution_count": 165,
   "metadata": {},
   "outputs": [],
   "source": [
    "# Drop the 'Years of experience in Germany' as it is irrelevant \n",
    "df=df.drop(['Years of experience in Germany'],axis=1)"
   ]
  },
  {
   "cell_type": "code",
   "execution_count": 166,
   "metadata": {},
   "outputs": [
    {
     "name": "stdout",
     "output_type": "stream",
     "text": [
      "<class 'pandas.core.frame.DataFrame'>\n",
      "RangeIndex: 1253 entries, 0 to 1252\n",
      "Data columns (total 17 columns):\n",
      " #   Column                                                  Non-Null Count  Dtype  \n",
      "---  ------                                                  --------------  -----  \n",
      " 0   Age                                                     1253 non-null   float64\n",
      " 1   Gender                                                  1253 non-null   object \n",
      " 2   City                                                    1253 non-null   object \n",
      " 3   Position                                                1253 non-null   object \n",
      " 4   Total years of experience                               1253 non-null   object \n",
      " 5   Seniority level                                         1253 non-null   object \n",
      " 6   Your main technology / programming language             1253 non-null   object \n",
      " 7   Other technologies/programming languages you use often  1253 non-null   object \n",
      " 8   Yearly brutto salary (without bonus and stocks) in EUR  1253 non-null   float64\n",
      " 9   Yearly bonus + stocks in EUR                            829 non-null    object \n",
      " 10  Number of vacation days                                 1253 non-null   float32\n",
      " 11  Employment status                                       1253 non-null   object \n",
      " 12  Сontract duration                                       1253 non-null   object \n",
      " 13  Main language at work                                   1253 non-null   object \n",
      " 14  Company size                                            1253 non-null   object \n",
      " 15  Company type                                            1253 non-null   object \n",
      " 16  Bonus                                                   1253 non-null   float32\n",
      "dtypes: float32(2), float64(2), object(13)\n",
      "memory usage: 156.8+ KB\n"
     ]
    }
   ],
   "source": [
    "df.info()"
   ]
  },
  {
   "cell_type": "code",
   "execution_count": null,
   "metadata": {},
   "outputs": [],
   "source": []
  },
  {
   "attachments": {},
   "cell_type": "markdown",
   "metadata": {},
   "source": [
    "### One Hot Encoding\n",
    "def one_hot_encoder(dataframe, categorical_cols, drop_first=False):\n",
    "    dataframe = pd.get_dummies(dataframe, columns=categorical_cols, drop_first=drop_first)\n",
    "    return dataframe\n",
    "ohe_cols = [col for col in df.columns if 10 >= df[col].nunique() >= 2 and col not in \"Target\"]\n",
    "credit_new2 = one_hot_encoder(df, ohe_cols,drop_first=True)\n",
    "\n",
    "credit_new2.columns"
   ]
  },
  {
   "attachments": {},
   "cell_type": "markdown",
   "metadata": {},
   "source": [
    "df['']=df[''].astype('category')\n",
    "df['Seniority level']=df['Seniority level'].astype('category')\n",
    "df['Position ']=df['Position '].astype('category')\n",
    "df['Total years of experience']=df['Total years of experience'].astype('category')\n",
    "df['Gender']=df['Gender'].astype('category')\n",
    "df['Yearly brutto salary (without bonus and stocks) in EUR']=df['Yearly brutto salary (without bonus and stocks) in EUR'].astype(int)"
   ]
  },
  {
   "cell_type": "code",
   "execution_count": 167,
   "metadata": {},
   "outputs": [],
   "source": [
    "df['Gender\t']=df['Gender'].astype('category')\n",
    "df['City']=df['City'].astype('category')\n",
    "df['Total years of experience']=df['Total years of experience'].astype('category')\n",
    "df['Your main technology / programming language']=df['Your main technology / programming language'].astype('category')\n",
    "df['Seniority level']=df['Seniority level'].astype('category')\n",
    "df['Position ']=df['Position '].astype('category')\n",
    "df['Total years of experience']=df['Total years of experience'].astype('category')\n",
    "df['Gender']=df['Gender'].astype('category')\n",
    "df['Yearly brutto salary (without bonus and stocks) in EUR']=df['Yearly brutto salary (without bonus and stocks) in EUR'].astype(float)\n",
    "df['Number of vacation days']=df['Number of vacation days'].astype('float')\n",
    "df['Employment status']=df['Employment status'].astype('category')\n",
    "df['Сontract duration']=df['Сontract duration'].astype('category')\n",
    "df['Company size']=df['Company size'].astype('category')\n",
    "df['Company type']=df['Company type'].astype('category')\n",
    "\n",
    "\n",
    "\n"
   ]
  },
  {
   "attachments": {},
   "cell_type": "markdown",
   "metadata": {},
   "source": [
    "### Countplots for categorical variable\n",
    "fig, ax=plt.subplots(nrows=2,ncols=2,figsize=(10,8))\n",
    "sns.countplot(x='Seniority level', data=df,ax=ax[0,0])\n",
    "sns.countplot(x='Gender',data=df,ax=ax[0,1])\n",
    "sns.countplot(x='Total years of experience',data=df,ax=ax[1,0])"
   ]
  },
  {
   "cell_type": "code",
   "execution_count": 168,
   "metadata": {},
   "outputs": [
    {
     "data": {
      "text/plain": [
       "<seaborn.axisgrid.PairGrid at 0x1da924ae220>"
      ]
     },
     "execution_count": 168,
     "metadata": {},
     "output_type": "execute_result"
    },
    {
     "data": {
      "image/png": "[encoded data removed]",
      "text/plain": [
       "<Figure size 720x720 with 20 Axes>"
      ]
     },
     "metadata": {
      "needs_background": "light"
     },
     "output_type": "display_data"
    }
   ],
   "source": [
    "sns.pairplot(df)"
   ]
  },
  {
   "attachments": {},
   "cell_type": "markdown",
   "metadata": {},
   "source": [
    "import seaborn as sns\n",
    "import matplotlib.pyplot as plt\n",
    "\n",
    "\n",
    "### Categorical Plotting\n",
    "fig,ax=plt.subplots(nrows=2,ncols=2,figsize=(15,10))\n",
    "sns.boxplot(x='Seniority level',y='Yearly brutto salary (without bonus and stocks) in EUR',data=df,ax=ax[0,0])\n",
    "sns.boxplot(x='Position ',y='Yearly brutto salary (without bonus and stocks) in EUR',data=df ,ax=ax[0,1])\n",
    "sns.boxplot(x='Total years of experience',y='Yearly brutto salary (without bonus and stocks) in EUR',data=df ,ax=ax[1,0])\n",
    "sns.boxplot(x='Gender',y='Yearly brutto salary (without bonus and stocks) in EUR',data=df ,ax=ax[1,1])"
   ]
  },
  {
   "cell_type": "code",
   "execution_count": 169,
   "metadata": {},
   "outputs": [
    {
     "data": {
      "text/plain": [
       "<AxesSubplot:xlabel='Yearly brutto salary (without bonus and stocks) in EUR', ylabel='Density'>"
      ]
     },
     "execution_count": 169,
     "metadata": {},
     "output_type": "execute_result"
    },
    {
     "data": {
      "image/png": "[encoded data removed]",
      "text/plain": [
       "<Figure size 432x288 with 1 Axes>"
      ]
     },
     "metadata": {
      "needs_background": "light"
     },
     "output_type": "display_data"
    }
   ],
   "source": [
    "sns.kdeplot(data=df, x=\"Yearly brutto salary (without bonus and stocks) in EUR\")"
   ]
  },
  {
   "cell_type": "code",
   "execution_count": 170,
   "metadata": {},
   "outputs": [
    {
     "data": {
      "text/html": [
       "<div>\n",
       "<style scoped>\n",
       "    .dataframe tbody tr th:only-of-type {\n",
       "        vertical-align: middle;\n",
       "    }\n",
       "\n",
       "    .dataframe tbody tr th {\n",
       "        vertical-align: top;\n",
       "    }\n",
       "\n",
       "    .dataframe thead th {\n",
       "        text-align: right;\n",
       "    }\n",
       "</style>\n",
       "<table border=\"1\" class=\"dataframe\">\n",
       "  <thead>\n",
       "    <tr style=\"text-align: right;\">\n",
       "      <th></th>\n",
       "      <th>Age</th>\n",
       "      <th>Gender</th>\n",
       "      <th>City</th>\n",
       "      <th>Position</th>\n",
       "      <th>Total years of experience</th>\n",
       "      <th>Seniority level</th>\n",
       "      <th>Your main technology / programming language</th>\n",
       "      <th>Other technologies/programming languages you use often</th>\n",
       "      <th>Yearly brutto salary (without bonus and stocks) in EUR</th>\n",
       "      <th>Yearly bonus + stocks in EUR</th>\n",
       "      <th>Number of vacation days</th>\n",
       "      <th>Employment status</th>\n",
       "      <th>Сontract duration</th>\n",
       "      <th>Main language at work</th>\n",
       "      <th>Company size</th>\n",
       "      <th>Company type</th>\n",
       "      <th>Bonus</th>\n",
       "      <th>Gender\\t</th>\n",
       "    </tr>\n",
       "  </thead>\n",
       "  <tbody>\n",
       "    <tr>\n",
       "      <th>0</th>\n",
       "      <td>26.0</td>\n",
       "      <td>Male</td>\n",
       "      <td>Munich</td>\n",
       "      <td>Software Engineer</td>\n",
       "      <td>5</td>\n",
       "      <td>Senior</td>\n",
       "      <td>TypeScript</td>\n",
       "      <td>Kotlin, Javascript / Typescript</td>\n",
       "      <td>80000.0</td>\n",
       "      <td>5000</td>\n",
       "      <td>30.0</td>\n",
       "      <td>Full-time employee</td>\n",
       "      <td>Unlimited contract</td>\n",
       "      <td>English</td>\n",
       "      <td>51-100</td>\n",
       "      <td>Product</td>\n",
       "      <td>5000.000000</td>\n",
       "      <td>Male</td>\n",
       "    </tr>\n",
       "    <tr>\n",
       "      <th>1</th>\n",
       "      <td>26.0</td>\n",
       "      <td>Male</td>\n",
       "      <td>Berlin</td>\n",
       "      <td>Backend Developer</td>\n",
       "      <td>7</td>\n",
       "      <td>Senior</td>\n",
       "      <td>Ruby</td>\n",
       "      <td>Javascript / Typescript</td>\n",
       "      <td>80000.0</td>\n",
       "      <td>NaN</td>\n",
       "      <td>28.0</td>\n",
       "      <td>Full-time employee</td>\n",
       "      <td>Unlimited contract</td>\n",
       "      <td>English</td>\n",
       "      <td>101-1000</td>\n",
       "      <td>Product</td>\n",
       "      <td>21101.339844</td>\n",
       "      <td>Male</td>\n",
       "    </tr>\n",
       "  </tbody>\n",
       "</table>\n",
       "</div>"
      ],
      "text/plain": [
       "    Age Gender    City          Position  Total years of experience  \\\n",
       "0  26.0   Male  Munich  Software Engineer                         5   \n",
       "1  26.0   Male  Berlin  Backend Developer                         7   \n",
       "\n",
       "  Seniority level Your main technology / programming language  \\\n",
       "0          Senior                                  TypeScript   \n",
       "1          Senior                                        Ruby   \n",
       "\n",
       "  Other technologies/programming languages you use often  \\\n",
       "0                    Kotlin, Javascript / Typescript       \n",
       "1                            Javascript / Typescript       \n",
       "\n",
       "   Yearly brutto salary (without bonus and stocks) in EUR  \\\n",
       "0                                            80000.0        \n",
       "1                                            80000.0        \n",
       "\n",
       "  Yearly bonus + stocks in EUR  Number of vacation days   Employment status  \\\n",
       "0                         5000                     30.0  Full-time employee   \n",
       "1                          NaN                     28.0  Full-time employee   \n",
       "\n",
       "    Сontract duration Main language at work Company size Company type  \\\n",
       "0  Unlimited contract               English       51-100      Product   \n",
       "1  Unlimited contract               English     101-1000      Product   \n",
       "\n",
       "          Bonus Gender\\t  \n",
       "0   5000.000000     Male  \n",
       "1  21101.339844     Male  "
      ]
     },
     "execution_count": 170,
     "metadata": {},
     "output_type": "execute_result"
    }
   ],
   "source": [
    "df.head(2)"
   ]
  },
  {
   "cell_type": "code",
   "execution_count": 171,
   "metadata": {},
   "outputs": [],
   "source": [
    "y = df_new[\"Yearly brutto salary (without bonus and stocks) in EUR\"]\n",
    "X = df_new.drop(columns={\"Yearly brutto salary (without bonus and stocks) in EUR\"})"
   ]
  },
  {
   "cell_type": "code",
   "execution_count": 172,
   "metadata": {},
   "outputs": [],
   "source": [
    "from sklearn.feature_selection import SelectKBest\n",
    "from sklearn.feature_selection import chi2\n",
    "from sklearn.feature_selection import mutual_info_classif\n",
    "from sklearn.feature_selection import SelectPercentile\n",
    "from sklearn.ensemble import RandomForestClassifier "
   ]
  },
  {
   "attachments": {},
   "cell_type": "markdown",
   "metadata": {},
   "source": [
    "#Tree Based\n",
    "tree_sel = RandomForestClassifier().fit(X, y)\n",
    "sfm_class = SelectFromModel(tree_sel, prefit=True)\n",
    "x_new = sfm_class.transform(X)\n",
    "print(x_new.shape)\n",
    "\n",
    "mask = sfm_class.get_support()\n",
    "new_features = X.columns[mask]\n",
    "print(new_features)\n",
    "###\n",
    "post_mut_inf = SelectPercentile(score_func=mutual_info_classif, percentile=50).fit_transform(X,y.ravel())\n",
    "print(\"Mutual Info:\", post_mut_inf.shape)"
   ]
  },
  {
   "attachments": {},
   "cell_type": "markdown",
   "metadata": {},
   "source": [
    "#### Model\n",
    "df2 = pd.get_dummies(df, drop_first=True)\n",
    "y = np.array(df2[\"target\"]).reshape(-1,1)\n",
    "X = np.array(df2.drop(columns={\"target\"}))\n",
    "\n",
    "X_train, X_test, y_train, y_test = train_test_split(X, y)\n",
    "\n",
    "clf = DecisionTreeRegressor()\n",
    "clf = clf.fit(X_train, y_train)\n",
    "print(clf.get_depth())\n",
    "print(clf.score(X_test, y_test))\n",
    "print(X.shape, y.shape)\n",
    "plot_tree(clf)\n",
    "\n",
    "# Generate a better image\n",
    "from sklearn.tree import export_graphviz\n",
    "export_graphviz(clf,\n",
    "                     out_file=\"output/reg_tree_1.dot\",\n",
    "                     feature_names = df.drop(columns={\"target\"}).columns, \n",
    "                     class_names=[\"0\",\"1\"],\n",
    "                     filled = True)\n",
    "Regression Tree Decision Making\n",
    "\n",
    "tree_para = {'min_samples_split':[2,3,4,5,6,7,8,9,10],\n",
    "            'max_depth':[7,8,9,10,11,12,13,14,15,16], \n",
    "            'criterion':[\"friedman_mse\", \"poisson\", \"squared_error\", \"absolute_error\"]}\n",
    "\n",
    "clfCV = GridSearchCV(estimator=DecisionTreeRegressor(random_state=0), param_grid=tree_para, cv=10) #See below for the CV argument\n",
    "clfCV.fit(X_train, y_train)\n",
    "clfCV.best_estimator_\n"
   ]
  },
  {
   "cell_type": "code",
   "execution_count": 173,
   "metadata": {},
   "outputs": [],
   "source": [
    "def find_categorical_numerical(df):\n",
    "    categorical = []\n",
    "    numerical = []\n",
    "    for col in df.columns:\n",
    "        if df[col].dtype == 'object':\n",
    "            categorical.append(col)\n",
    "        else:\n",
    "            numerical.append(col)\n",
    "    return categorical, numerical"
   ]
  },
  {
   "cell_type": "code",
   "execution_count": 174,
   "metadata": {},
   "outputs": [],
   "source": [
    "categorical, numerical = find_categorical_numerical(df)"
   ]
  },
  {
   "cell_type": "code",
   "execution_count": 175,
   "metadata": {},
   "outputs": [
    {
     "name": "stdout",
     "output_type": "stream",
     "text": [
      "categorical Data:\n"
     ]
    },
    {
     "data": {
      "text/plain": [
       "['Other technologies/programming languages you use often',\n",
       " 'Yearly bonus + stocks in EUR',\n",
       " 'Main language at work']"
      ]
     },
     "execution_count": 175,
     "metadata": {},
     "output_type": "execute_result"
    }
   ],
   "source": [
    "# Categorical data is \n",
    "print(\"categorical Data:\")\n",
    "categorical"
   ]
  },
  {
   "cell_type": "code",
   "execution_count": 179,
   "metadata": {},
   "outputs": [
    {
     "name": "stdout",
     "output_type": "stream",
     "text": [
      "Numerical data:\n"
     ]
    },
    {
     "data": {
      "text/plain": [
       "['Age',\n",
       " 'Gender',\n",
       " 'City',\n",
       " 'Position ',\n",
       " 'Total years of experience',\n",
       " 'Seniority level',\n",
       " 'Your main technology / programming language',\n",
       " 'Yearly brutto salary (without bonus and stocks) in EUR',\n",
       " 'Number of vacation days',\n",
       " 'Employment status',\n",
       " 'Сontract duration',\n",
       " 'Company size',\n",
       " 'Company type',\n",
       " 'Bonus',\n",
       " 'Gender\\t']"
      ]
     },
     "execution_count": 179,
     "metadata": {},
     "output_type": "execute_result"
    }
   ],
   "source": [
    "# Numerical data is :\n",
    "print(\"Numerical data:\")\n",
    "numerical"
   ]
  },
  {
   "cell_type": "code",
   "execution_count": 177,
   "metadata": {},
   "outputs": [
    {
     "ename": "ValueError",
     "evalue": "could not convert string to float: 'Munich'",
     "output_type": "error",
     "traceback": [
      "\u001b[1;31m---------------------------------------------------------------------------\u001b[0m",
      "\u001b[1;31mValueError\u001b[0m                                Traceback (most recent call last)",
      "\u001b[1;32mc:\\Users\\shikh\\OneDrive\\Documents\\DATA-3950\\ItML_Asn_2_Students\\assignment_2_start.ipynb Cell 46\u001b[0m in \u001b[0;36m<cell line: 17>\u001b[1;34m()\u001b[0m\n\u001b[0;32m     <a href='vscode-notebook-cell:/c%3A/Users/shikh/OneDrive/Documents/DATA-3950/ItML_Asn_2_Students/assignment_2_start.ipynb#X60sZmlsZQ%3D%3D?line=14'>15</a>\u001b[0m y \u001b[39m=\u001b[39m df_new[\u001b[39m'\u001b[39m\u001b[39mYearly brutto salary (without bonus and stocks) in EUR\u001b[39m\u001b[39m'\u001b[39m]\n\u001b[0;32m     <a href='vscode-notebook-cell:/c%3A/Users/shikh/OneDrive/Documents/DATA-3950/ItML_Asn_2_Students/assignment_2_start.ipynb#X60sZmlsZQ%3D%3D?line=15'>16</a>\u001b[0m selector \u001b[39m=\u001b[39m SelectKBest(score_func\u001b[39m=\u001b[39mmutual_info_regression, k\u001b[39m=\u001b[39m\u001b[39m5\u001b[39m)\n\u001b[1;32m---> <a href='vscode-notebook-cell:/c%3A/Users/shikh/OneDrive/Documents/DATA-3950/ItML_Asn_2_Students/assignment_2_start.ipynb#X60sZmlsZQ%3D%3D?line=16'>17</a>\u001b[0m X \u001b[39m=\u001b[39m selector\u001b[39m.\u001b[39;49mfit_transform(X, y)\n\u001b[0;32m     <a href='vscode-notebook-cell:/c%3A/Users/shikh/OneDrive/Documents/DATA-3950/ItML_Asn_2_Students/assignment_2_start.ipynb#X60sZmlsZQ%3D%3D?line=18'>19</a>\u001b[0m \u001b[39m# Split the data into training and testing sets\u001b[39;00m\n\u001b[0;32m     <a href='vscode-notebook-cell:/c%3A/Users/shikh/OneDrive/Documents/DATA-3950/ItML_Asn_2_Students/assignment_2_start.ipynb#X60sZmlsZQ%3D%3D?line=19'>20</a>\u001b[0m X_train, X_test, y_train, y_test \u001b[39m=\u001b[39m train_test_split(X, y, test_size\u001b[39m=\u001b[39m\u001b[39m0.2\u001b[39m, random_state\u001b[39m=\u001b[39m\u001b[39m0\u001b[39m)\n",
      "File \u001b[1;32mc:\\Users\\shikh\\anaconda3\\lib\\site-packages\\sklearn\\base.py:870\u001b[0m, in \u001b[0;36mTransformerMixin.fit_transform\u001b[1;34m(self, X, y, **fit_params)\u001b[0m\n\u001b[0;32m    867\u001b[0m     \u001b[39mreturn\u001b[39;00m \u001b[39mself\u001b[39m\u001b[39m.\u001b[39mfit(X, \u001b[39m*\u001b[39m\u001b[39m*\u001b[39mfit_params)\u001b[39m.\u001b[39mtransform(X)\n\u001b[0;32m    868\u001b[0m \u001b[39melse\u001b[39;00m:\n\u001b[0;32m    869\u001b[0m     \u001b[39m# fit method of arity 2 (supervised transformation)\u001b[39;00m\n\u001b[1;32m--> 870\u001b[0m     \u001b[39mreturn\u001b[39;00m \u001b[39mself\u001b[39m\u001b[39m.\u001b[39mfit(X, y, \u001b[39m*\u001b[39m\u001b[39m*\u001b[39mfit_params)\u001b[39m.\u001b[39mtransform(X)\n",
      "File \u001b[1;32mc:\\Users\\shikh\\anaconda3\\lib\\site-packages\\sklearn\\feature_selection\\_univariate_selection.py:461\u001b[0m, in \u001b[0;36m_BaseFilter.fit\u001b[1;34m(self, X, y)\u001b[0m\n\u001b[0;32m    444\u001b[0m \u001b[39mdef\u001b[39;00m \u001b[39mfit\u001b[39m(\u001b[39mself\u001b[39m, X, y):\n\u001b[0;32m    445\u001b[0m     \u001b[39m\"\"\"Run score function on (X, y) and get the appropriate features.\u001b[39;00m\n\u001b[0;32m    446\u001b[0m \n\u001b[0;32m    447\u001b[0m \u001b[39m    Parameters\u001b[39;00m\n\u001b[1;32m   (...)\u001b[0m\n\u001b[0;32m    459\u001b[0m \u001b[39m        Returns the instance itself.\u001b[39;00m\n\u001b[0;32m    460\u001b[0m \u001b[39m    \"\"\"\u001b[39;00m\n\u001b[1;32m--> 461\u001b[0m     X, y \u001b[39m=\u001b[39m \u001b[39mself\u001b[39;49m\u001b[39m.\u001b[39;49m_validate_data(\n\u001b[0;32m    462\u001b[0m         X, y, accept_sparse\u001b[39m=\u001b[39;49m[\u001b[39m\"\u001b[39;49m\u001b[39mcsr\u001b[39;49m\u001b[39m\"\u001b[39;49m, \u001b[39m\"\u001b[39;49m\u001b[39mcsc\u001b[39;49m\u001b[39m\"\u001b[39;49m], multi_output\u001b[39m=\u001b[39;49m\u001b[39mTrue\u001b[39;49;00m\n\u001b[0;32m    463\u001b[0m     )\n\u001b[0;32m    465\u001b[0m     \u001b[39mif\u001b[39;00m \u001b[39mnot\u001b[39;00m callable(\u001b[39mself\u001b[39m\u001b[39m.\u001b[39mscore_func):\n\u001b[0;32m    466\u001b[0m         \u001b[39mraise\u001b[39;00m \u001b[39mTypeError\u001b[39;00m(\n\u001b[0;32m    467\u001b[0m             \u001b[39m\"\u001b[39m\u001b[39mThe score function should be a callable, \u001b[39m\u001b[39m%s\u001b[39;00m\u001b[39m (\u001b[39m\u001b[39m%s\u001b[39;00m\u001b[39m) was passed.\u001b[39m\u001b[39m\"\u001b[39m\n\u001b[0;32m    468\u001b[0m             \u001b[39m%\u001b[39m (\u001b[39mself\u001b[39m\u001b[39m.\u001b[39mscore_func, \u001b[39mtype\u001b[39m(\u001b[39mself\u001b[39m\u001b[39m.\u001b[39mscore_func))\n\u001b[0;32m    469\u001b[0m         )\n",
      "File \u001b[1;32mc:\\Users\\shikh\\anaconda3\\lib\\site-packages\\sklearn\\base.py:596\u001b[0m, in \u001b[0;36mBaseEstimator._validate_data\u001b[1;34m(self, X, y, reset, validate_separately, **check_params)\u001b[0m\n\u001b[0;32m    594\u001b[0m         y \u001b[39m=\u001b[39m check_array(y, input_name\u001b[39m=\u001b[39m\u001b[39m\"\u001b[39m\u001b[39my\u001b[39m\u001b[39m\"\u001b[39m, \u001b[39m*\u001b[39m\u001b[39m*\u001b[39mcheck_y_params)\n\u001b[0;32m    595\u001b[0m     \u001b[39melse\u001b[39;00m:\n\u001b[1;32m--> 596\u001b[0m         X, y \u001b[39m=\u001b[39m check_X_y(X, y, \u001b[39m*\u001b[39m\u001b[39m*\u001b[39mcheck_params)\n\u001b[0;32m    597\u001b[0m     out \u001b[39m=\u001b[39m X, y\n\u001b[0;32m    599\u001b[0m \u001b[39mif\u001b[39;00m \u001b[39mnot\u001b[39;00m no_val_X \u001b[39mand\u001b[39;00m check_params\u001b[39m.\u001b[39mget(\u001b[39m\"\u001b[39m\u001b[39mensure_2d\u001b[39m\u001b[39m\"\u001b[39m, \u001b[39mTrue\u001b[39;00m):\n",
      "File \u001b[1;32mc:\\Users\\shikh\\anaconda3\\lib\\site-packages\\sklearn\\utils\\validation.py:1074\u001b[0m, in \u001b[0;36mcheck_X_y\u001b[1;34m(X, y, accept_sparse, accept_large_sparse, dtype, order, copy, force_all_finite, ensure_2d, allow_nd, multi_output, ensure_min_samples, ensure_min_features, y_numeric, estimator)\u001b[0m\n\u001b[0;32m   1069\u001b[0m         estimator_name \u001b[39m=\u001b[39m _check_estimator_name(estimator)\n\u001b[0;32m   1070\u001b[0m     \u001b[39mraise\u001b[39;00m \u001b[39mValueError\u001b[39;00m(\n\u001b[0;32m   1071\u001b[0m         \u001b[39mf\u001b[39m\u001b[39m\"\u001b[39m\u001b[39m{\u001b[39;00mestimator_name\u001b[39m}\u001b[39;00m\u001b[39m requires y to be passed, but the target y is None\u001b[39m\u001b[39m\"\u001b[39m\n\u001b[0;32m   1072\u001b[0m     )\n\u001b[1;32m-> 1074\u001b[0m X \u001b[39m=\u001b[39m check_array(\n\u001b[0;32m   1075\u001b[0m     X,\n\u001b[0;32m   1076\u001b[0m     accept_sparse\u001b[39m=\u001b[39;49maccept_sparse,\n\u001b[0;32m   1077\u001b[0m     accept_large_sparse\u001b[39m=\u001b[39;49maccept_large_sparse,\n\u001b[0;32m   1078\u001b[0m     dtype\u001b[39m=\u001b[39;49mdtype,\n\u001b[0;32m   1079\u001b[0m     order\u001b[39m=\u001b[39;49morder,\n\u001b[0;32m   1080\u001b[0m     copy\u001b[39m=\u001b[39;49mcopy,\n\u001b[0;32m   1081\u001b[0m     force_all_finite\u001b[39m=\u001b[39;49mforce_all_finite,\n\u001b[0;32m   1082\u001b[0m     ensure_2d\u001b[39m=\u001b[39;49mensure_2d,\n\u001b[0;32m   1083\u001b[0m     allow_nd\u001b[39m=\u001b[39;49mallow_nd,\n\u001b[0;32m   1084\u001b[0m     ensure_min_samples\u001b[39m=\u001b[39;49mensure_min_samples,\n\u001b[0;32m   1085\u001b[0m     ensure_min_features\u001b[39m=\u001b[39;49mensure_min_features,\n\u001b[0;32m   1086\u001b[0m     estimator\u001b[39m=\u001b[39;49mestimator,\n\u001b[0;32m   1087\u001b[0m     input_name\u001b[39m=\u001b[39;49m\u001b[39m\"\u001b[39;49m\u001b[39mX\u001b[39;49m\u001b[39m\"\u001b[39;49m,\n\u001b[0;32m   1088\u001b[0m )\n\u001b[0;32m   1090\u001b[0m y \u001b[39m=\u001b[39m _check_y(y, multi_output\u001b[39m=\u001b[39mmulti_output, y_numeric\u001b[39m=\u001b[39my_numeric, estimator\u001b[39m=\u001b[39mestimator)\n\u001b[0;32m   1092\u001b[0m check_consistent_length(X, y)\n",
      "File \u001b[1;32mc:\\Users\\shikh\\anaconda3\\lib\\site-packages\\sklearn\\utils\\validation.py:856\u001b[0m, in \u001b[0;36mcheck_array\u001b[1;34m(array, accept_sparse, accept_large_sparse, dtype, order, copy, force_all_finite, ensure_2d, allow_nd, ensure_min_samples, ensure_min_features, estimator, input_name)\u001b[0m\n\u001b[0;32m    854\u001b[0m         array \u001b[39m=\u001b[39m array\u001b[39m.\u001b[39mastype(dtype, casting\u001b[39m=\u001b[39m\u001b[39m\"\u001b[39m\u001b[39munsafe\u001b[39m\u001b[39m\"\u001b[39m, copy\u001b[39m=\u001b[39m\u001b[39mFalse\u001b[39;00m)\n\u001b[0;32m    855\u001b[0m     \u001b[39melse\u001b[39;00m:\n\u001b[1;32m--> 856\u001b[0m         array \u001b[39m=\u001b[39m np\u001b[39m.\u001b[39;49masarray(array, order\u001b[39m=\u001b[39;49morder, dtype\u001b[39m=\u001b[39;49mdtype)\n\u001b[0;32m    857\u001b[0m \u001b[39mexcept\u001b[39;00m ComplexWarning \u001b[39mas\u001b[39;00m complex_warning:\n\u001b[0;32m    858\u001b[0m     \u001b[39mraise\u001b[39;00m \u001b[39mValueError\u001b[39;00m(\n\u001b[0;32m    859\u001b[0m         \u001b[39m\"\u001b[39m\u001b[39mComplex data not supported\u001b[39m\u001b[39m\\n\u001b[39;00m\u001b[39m{}\u001b[39;00m\u001b[39m\\n\u001b[39;00m\u001b[39m\"\u001b[39m\u001b[39m.\u001b[39mformat(array)\n\u001b[0;32m    860\u001b[0m     ) \u001b[39mfrom\u001b[39;00m \u001b[39mcomplex_warning\u001b[39;00m\n",
      "File \u001b[1;32mc:\\Users\\shikh\\anaconda3\\lib\\site-packages\\pandas\\core\\generic.py:2064\u001b[0m, in \u001b[0;36mNDFrame.__array__\u001b[1;34m(self, dtype)\u001b[0m\n\u001b[0;32m   2063\u001b[0m \u001b[39mdef\u001b[39;00m \u001b[39m__array__\u001b[39m(\u001b[39mself\u001b[39m, dtype: npt\u001b[39m.\u001b[39mDTypeLike \u001b[39m|\u001b[39m \u001b[39mNone\u001b[39;00m \u001b[39m=\u001b[39m \u001b[39mNone\u001b[39;00m) \u001b[39m-\u001b[39m\u001b[39m>\u001b[39m np\u001b[39m.\u001b[39mndarray:\n\u001b[1;32m-> 2064\u001b[0m     \u001b[39mreturn\u001b[39;00m np\u001b[39m.\u001b[39;49masarray(\u001b[39mself\u001b[39;49m\u001b[39m.\u001b[39;49m_values, dtype\u001b[39m=\u001b[39;49mdtype)\n",
      "\u001b[1;31mValueError\u001b[0m: could not convert string to float: 'Munich'"
     ]
    }
   ],
   "source": [
    "import numpy as np\n",
    "import pandas as pd\n",
    "from sklearn.compose import ColumnTransformer\n",
    "from sklearn.pipeline import Pipeline\n",
    "from sklearn.tree import DecisionTreeRegressor\n",
    "from sklearn.metrics import mean_squared_error\n",
    "from sklearn.model_selection import train_test_split, GridSearchCV\n",
    "from sklearn.feature_selection import SelectKBest, mutual_info_regression\n",
    "from sklearn.preprocessing import OneHotEncoder\n",
    "\n",
    "\n",
    "\n",
    "# Select the best features using mutual information\n",
    "X = df_new.drop('Yearly brutto salary (without bonus and stocks) in EUR', axis=1)\n",
    "y = df_new['Yearly brutto salary (without bonus and stocks) in EUR']\n",
    "selector = SelectKBest(score_func=mutual_info_regression, k=5)\n",
    "X = selector.fit_transform(X, y)\n",
    "\n",
    "# Split the data into training and testing sets\n",
    "X_train, X_test, y_train, y_test = train_test_split(X, y, test_size=0.2, random_state=0)\n",
    "\n",
    "# Define the categorical and numerical features\n",
    "num_features = ['Age', 'Yearly brutto salary (without bonus and stocks) in EUR']\n",
    "cat_features = ['Gender','City','Position ','Total years of experience','Seniority level','Your main technology / programming language',\n",
    " 'Other technologies/programming languages you use often','Yearly bonus + stocks in EUR','Number of vacation days','Employment status',\n",
    " 'Сontract duration','Main language at work','Company size','Company type']\n",
    "\n",
    "# Apply one-hot encoding to the categorical features and keep the numerical features as they are\n",
    "preprocessor = ColumnTransformer(\n",
    "    transformers=[\n",
    "        ('num', 'passthrough', num_features),\n",
    "        ('cat', OneHotEncoder(), cat_features)\n",
    "    ])\n",
    "\n",
    "# Define the hyperparameters to search\n",
    "param_grid = {'tree__max_depth': [2, 4, 6, 8, 10],\n",
    "              'tree__min_samples_split': [2, 4, 6, 8, 10]}\n",
    "\n",
    "# Train the decision tree model using grid search and one-hot encoding\n",
    "regressor = DecisionTreeRegressor(random_state=0)\n",
    "pipe = Pipeline([\n",
    "    ('preprocessor', preprocessor),\n",
    "    ('tree', regressor)\n",
    "])\n",
    "grid_search = GridSearchCV(pipe, param_grid, cv=5, scoring='neg_mean_squared_error')\n",
    "grid_search.fit(X_train, y_train)\n",
    "\n",
    "# Predict the salaries on the test set\n",
    "y_pred = grid_search.predict(X_test)\n",
    "\n",
    "# Evaluate the model using mean squared error\n",
    "mse = mean_squared_error(y_test, y_pred)\n",
    "print(\"Mean Squared Error:\", mse)\n"
   ]
  },
  {
   "attachments": {},
   "cell_type": "markdown",
   "metadata": {},
   "source": [
    "\n",
    "# Answers and Explainations\n",
    "(Expand/modify as needed)\n",
    "\n",
    "### Results\n",
    "\n",
    "### Feature Selection Activities\n",
    "\n",
    "### Hyperparameter Changes"
   ]
  }
 ],
 "metadata": {
  "kernelspec": {
   "display_name": "base",
   "language": "python",
   "name": "python3"
  },
  "language_info": {
   "codemirror_mode": {
    "name": "ipython",
    "version": 3
   },
   "file_extension": ".py",
   "mimetype": "text/x-python",
   "name": "python",
   "nbconvert_exporter": "python",
   "pygments_lexer": "ipython3",
   "version": "3.9.12"
  },
  "orig_nbformat": 4,
  "vscode": {
   "interpreter": {
    "hash": "ac84c186c3977d3f3331649749bf53276a5c5befb029be0bc359ac378ed9e33b"
   }
  }
 },
 "nbformat": 4,
 "nbformat_minor": 2
}
